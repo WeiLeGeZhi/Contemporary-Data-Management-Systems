{
 "cells": [
  {
   "cell_type": "markdown",
   "id": "46070ac7-0b83-4a45-86c5-82e0b098b1fb",
   "metadata": {},
   "source": [
    "# Lab5 SQL的复杂查询"
   ]
  },
  {
   "cell_type": "markdown",
   "id": "e2f9d678-3b50-41d3-a9fe-6b235e3603df",
   "metadata": {},
   "source": [
    "在本章，我们会使用 Python 进行一些复杂的 SQL 查询，包括一些新的关键字，聚集函数，嵌套查询，两表的连接、窗口函数等等"
   ]
  },
  {
   "cell_type": "markdown",
   "id": "ffced702-616c-4721-919c-c305fb983ffe",
   "metadata": {},
   "source": [
    "## 一、常用关键字"
   ]
  },
  {
   "cell_type": "markdown",
   "id": "44fc103f-df3e-4e3c-804a-78ecb85c184d",
   "metadata": {},
   "source": [
    "首先我们需要创建表并且往其中插入相关的数据。"
   ]
  },
  {
   "cell_type": "code",
   "execution_count": 77,
   "id": "700c0afb-bbc4-412c-a3f9-405baf824d75",
   "metadata": {
    "tags": []
   },
   "outputs": [],
   "source": [
    "# 导入 Python 与 PostgreSQL 操作库\n",
    "import psycopg2\n",
    "conn = psycopg2.connect(host=\"172.16.253.154\", port=\"5432\", user=\"ecnu10205501432\", password=\"ECNU10205501432\", database=\"ecnu10205501432\")\n",
    "autocommit = psycopg2.extensions.ISOLATION_LEVEL_AUTOCOMMIT\n",
    "conn.set_isolation_level(autocommit)\n",
    "cur = conn.cursor()"
   ]
  },
  {
   "cell_type": "markdown",
   "id": "f4429542-b262-4c35-bef3-300d36a5ab21",
   "metadata": {},
   "source": [
    "创建四张表：\n",
    "\n",
    "表一、S(SNO,SNAME,STATUS,CITY); \n",
    "\n",
    "供应商表 S，供应商代码（SNO），供应商姓名（SNAME）， 供应 商状态（STATUS），供应商所在城市（CITY） \n",
    "\n",
    "表二、P(PNO,PNAME,COLOR,WEIGHT); \n",
    "\n",
    "零件表 P，零件代码（PNO），零件名字（PNAME），颜色 （COLOR），重量（WEIGHT） \n",
    "\n",
    "表三、J(JNO,JNAME,CITY); \n",
    "\n",
    "工程项目表 J，工程代码（JNO），工程名字（JNAME），工程所在城市（CITY） \n",
    "\n",
    "表四、SPJ(SNO,PNO,JNO,QTY); \n",
    "\n",
    "供应情况表 SPJ,供应商代码（SNO），零件代码（PNO），工程代码 （JNO），供应数量（QTY）"
   ]
  },
  {
   "cell_type": "code",
   "execution_count": 45,
   "id": "ad4e8975-ffda-4098-a1b4-f4865d94b61f",
   "metadata": {
    "tags": []
   },
   "outputs": [],
   "source": [
    "#如果这三张表已经存在，需要自己将这这些张表删除，参考 Lab4 的方法\n",
    "sql1=\"create table S \\\n",
    "(\\\n",
    "Sno char(2) unique,\\\n",
    "Sname char(6),\\\n",
    "Status char(2),\\\n",
    "City char(4),\\\n",
    "primary key(Sno)\\\n",
    ")\"\n",
    "\n",
    "sql2=\"create table P\\\n",
    "(\\\n",
    "Pno char(2) unique,\\\n",
    "Pname char(6),\\\n",
    "color char(2),\\\n",
    "weight int,\\\n",
    "primary key(Pno)\\\n",
    ");\"\n",
    "\n",
    "sql3=\"create table J\\\n",
    "(\\\n",
    "Jno char(2) unique,\\\n",
    "Jname char(8),\\\n",
    "CITY char(4),\\\n",
    "primary key(Jno)\\\n",
    ");\"\n",
    "\n",
    "sql4=\"create table SPJ\\\n",
    "(\\\n",
    "Sno char(2),\\\n",
    "Pno char(2),\\\n",
    "Jno char(2),\\\n",
    "QTY int,\\\n",
    "primary key(Sno,Pno,Jno),\\\n",
    "foreign key(Sno) references S(Sno),\\\n",
    "foreign key(Pno) references P(Pno),\\\n",
    "foreign key(Jno) references J(Jno)\\\n",
    ");\"\n",
    "cur.execute(sql1)\n",
    "cur.execute(sql2)\n",
    "cur.execute(sql3)\n",
    "cur.execute(sql4)"
   ]
  },
  {
   "cell_type": "code",
   "execution_count": 46,
   "id": "093fb440-c13f-4b9d-ab5f-449648c020a8",
   "metadata": {
    "tags": []
   },
   "outputs": [],
   "source": [
    "#插入数据,确保只运行一次\n",
    "sql1=\"insert into S(Sno,Sname,Status,City)\\\n",
    "values\\\n",
    "('S1','精益','20','天津'),\\\n",
    "('S2','盛锡','10','北京'),\\\n",
    "('S3','东方红','30','北京'),\\\n",
    "('S4','丰泰盛','20','天津'),\\\n",
    "('S5','为民','30','上海');\"\n",
    "\n",
    "sql2=\"insert into P(Pno,Pname,color,weight)\\\n",
    "values\\\n",
    "('P1','螺母','红',12),\\\n",
    "('P2','螺栓','绿',17),\\\n",
    "('P3','螺丝刀','蓝',14),\\\n",
    "('P4','螺丝刀','红',14),\\\n",
    "('P5','凸轮','蓝',40),\\\n",
    "('P6','齿轮','红',30);\"\n",
    "\n",
    "sql3=\"insert into J(Jno,Jname,CITY)\\\n",
    "values\\\n",
    "('J1','三建','北京'),\\\n",
    "('J2','一汽','长春'),\\\n",
    "('J3','弹簧厂','天津'),\\\n",
    "('J4','造船厂','天津'),\\\n",
    "('J5','机车厂','唐山'),\\\n",
    "('J6','无线电厂','常州'),\\\n",
    "('J7','半导体厂','南京');\\\n",
    "\"\n",
    "\n",
    "sql4=\"insert into SPJ(Sno,Pno,Jno,QTY)\\\n",
    "values\\\n",
    "('S1','P1','J1',200),\\\n",
    "('S1','P1','J3',100),\\\n",
    "('S1','P1','J4',700),\\\n",
    "('S1','P2','J2',100),\\\n",
    "('S2','P3','J1',400),\\\n",
    "('S2','P3','J2',200),\\\n",
    "('S2','P3','J4',500),\\\n",
    "('S2','P3','J5',400),\\\n",
    "('S2','P5','J1',400),\\\n",
    "('S2','P5','J2',100),\\\n",
    "('S3','P1','J1',200),\\\n",
    "('S3','P3','J1',200),\\\n",
    "('S4','P5','J1',100),\\\n",
    "('S4','P6','J3',300),\\\n",
    "('S4','P6','J4',200),\\\n",
    "('S5','P2','J4',100),\\\n",
    "('S5','P3','J1',200),\\\n",
    "('S5','P6','J2',200),\\\n",
    "('S5','P6','J4',500);\"\n",
    "\n",
    "cur.execute(sql1)\n",
    "cur.execute(sql2)\n",
    "cur.execute(sql3)\n",
    "cur.execute(sql4)"
   ]
  },
  {
   "cell_type": "code",
   "execution_count": 47,
   "id": "753f2477-ef53-419f-960b-e6f38a0aa504",
   "metadata": {
    "tags": []
   },
   "outputs": [
    {
     "name": "stdout",
     "output_type": "stream",
     "text": [
      "('s',)\n",
      "('spj',)\n",
      "('p',)\n",
      "('j',)\n"
     ]
    }
   ],
   "source": [
    "#查看已有的数据表\n",
    "cur.execute(\"\"\"SELECT table_name FROM information_schema.tables\n",
    "       WHERE table_schema = 'public'\"\"\")\n",
    "\n",
    "for tuple in cur.fetchall():\n",
    "    print(tuple)"
   ]
  },
  {
   "cell_type": "markdown",
   "id": "bddd1c2e-799b-420e-a9b8-eee5924523dd",
   "metadata": {
    "tags": []
   },
   "source": [
    "### 单表查询这种常用关键字\n",
    "\n",
    "| 关键字 | 含义       | 用法                        |\n",
    "| ---- | ---------- | --------------------------- |\n",
    "| \\$ (not) like  | 相似匹配       | 常出现在where中，用来匹配字段中含有某一个特定模式的记录        |\n",
    "| \\$as  | 字段重命名       | 用来对select后面的字段重新命名        |\n",
    "| \\$order | 排序   | 常用在一个sql查询的最后面，用来对查询结果做排序       |\n",
    "| \\$limit | 限制输出数量   | 常用在一个sql查询的最后面，用来限制查询结果数量       |\n",
    "| \\$ (not) in  | 在（一个列表）之内     |  常出现在where中，用来判断字段值中是否在某个列表之内        |\n",
    "| \\$between . and . | 在两数之间     |  常出现在where中，用来判断字段值中是否在两个值之间        |\n",
    "| \\$distinct  | 去重     |  用在select中，用于按照特定字段对结果去重        |\n",
    "| \\$case . when . then  | 多条件映射     |  常用在select中，用于将字段中满足条件的值映射成为一个新值        |"
   ]
  },
  {
   "cell_type": "markdown",
   "id": "f7768a87-508a-419c-9036-416260327944",
   "metadata": {
    "tags": []
   },
   "source": [
    "### 例1：查询零件表P中，零件名含有‘螺’字的零件所有信息，并且按照零件重量降序排序"
   ]
  },
  {
   "cell_type": "code",
   "execution_count": 48,
   "id": "eee8330d-59ac-4360-b53e-d4bdcc758657",
   "metadata": {
    "tags": []
   },
   "outputs": [
    {
     "name": "stdout",
     "output_type": "stream",
     "text": [
      "('P2', '螺栓    ', '绿 ', 17)\n",
      "('P3', '螺丝刀   ', '蓝 ', 14)\n",
      "('P4', '螺丝刀   ', '红 ', 14)\n",
      "('P1', '螺母    ', '红 ', 12)\n"
     ]
    }
   ],
   "source": [
    "sql=\"select * from P \\\n",
    "where Pname like '%螺%' \\\n",
    "order by weight desc\"\n",
    "cur.execute(sql)\n",
    "for tuple in cur.fetchall():\n",
    "    print(tuple)\n",
    "#like '%螺%':匹配含有‘螺’的\n",
    "#like '%螺%':匹配以‘螺’开头的\n",
    "#like '螺%':匹配以‘螺’结尾的\n",
    "#desc：降序\n",
    "#asc：升序"
   ]
  },
  {
   "cell_type": "markdown",
   "id": "986dffc8-7027-47d0-9d53-c702322a0b2a",
   "metadata": {},
   "source": [
    "### 例2: 查询零件表P的所有信息，并且按照根据重量与25的关系来辨别轻重"
   ]
  },
  {
   "cell_type": "code",
   "execution_count": 49,
   "id": "64fd58de-32d5-4d91-b998-7d6af3cbc1f7",
   "metadata": {
    "tags": []
   },
   "outputs": [
    {
     "name": "stdout",
     "output_type": "stream",
     "text": [
      "('P5', '凸轮    ', '蓝 ', 40, '重')\n",
      "('P6', '齿轮    ', '红 ', 30, '重')\n",
      "('P2', '螺栓    ', '绿 ', 17, '轻')\n",
      "('P3', '螺丝刀   ', '蓝 ', 14, '轻')\n",
      "('P4', '螺丝刀   ', '红 ', 14, '轻')\n",
      "('P1', '螺母    ', '红 ', 12, '轻')\n"
     ]
    }
   ],
   "source": [
    "sql=\"select *, \\\n",
    "case when weight<=25 then '轻' when weight>25 then '重' end as type \\\n",
    "from P \\\n",
    "order by weight desc\"\n",
    "cur.execute(sql)\n",
    "for tuple in cur.fetchall():\n",
    "    print(tuple)"
   ]
  },
  {
   "cell_type": "markdown",
   "id": "44a30150-95b8-4b2b-ab44-b620508652e2",
   "metadata": {},
   "source": [
    "### 练习1：查询零工程项目表J中名字中含有‘厂’字的所有记录，并且需要根据城市名字来判断是不是直辖市"
   ]
  },
  {
   "cell_type": "code",
   "execution_count": 50,
   "id": "f96fe031-50af-43b5-a768-9f56836ccff3",
   "metadata": {
    "tags": []
   },
   "outputs": [
    {
     "name": "stdout",
     "output_type": "stream",
     "text": [
      "('J3', '弹簧厂     ', '天津  ', '直辖市')\n",
      "('J4', '造船厂     ', '天津  ', '直辖市')\n",
      "('J5', '机车厂     ', '唐山  ', '非直辖市')\n",
      "('J6', '无线电厂    ', '常州  ', '非直辖市')\n",
      "('J7', '半导体厂    ', '南京  ', '非直辖市')\n"
     ]
    }
   ],
   "source": [
    "\"\"\"\n",
    "('J3', '弹簧厂     ', '天津  ', '直辖市')\n",
    "('J4', '造船厂     ', '天津  ', '直辖市')\n",
    "('J5', '机车厂     ', '唐山  ', '非直辖市')\n",
    "('J6', '无线电厂    ', '常州  ', '非直辖市')\n",
    "('J7', '半导体厂    ', '南京  ', '非直辖市')\n",
    "\"\"\"\n",
    "sql=\"select *, \\\n",
    "case when CITY='天津' or CITY='北京' or CITY='上海' or CITY='重庆' then '直辖市' when CITY!='天津' and CITY!='北京' and CITY!='上海' and CITY!='重庆' then '非直辖市' end as type \\\n",
    "from J \\\n",
    "where JNAME like '%厂%'\"\n",
    "cur.execute(sql)\n",
    "for tuple in cur.fetchall():\n",
    "    print(tuple)"
   ]
  },
  {
   "cell_type": "markdown",
   "id": "ee846ceb-0b42-4f44-b24e-6f983887b97f",
   "metadata": {},
   "source": [
    "### 例3：查询零件表P中质量最轻的前三种零件的信息"
   ]
  },
  {
   "cell_type": "code",
   "execution_count": 51,
   "id": "2751a864-81f9-44e6-a1e7-6d73d4b8c692",
   "metadata": {
    "tags": []
   },
   "outputs": [
    {
     "name": "stdout",
     "output_type": "stream",
     "text": [
      "('P1', '螺母    ', '红 ', 12)\n",
      "('P3', '螺丝刀   ', '蓝 ', 14)\n",
      "('P4', '螺丝刀   ', '红 ', 14)\n"
     ]
    }
   ],
   "source": [
    "sql=\"select * \\\n",
    "from P \\\n",
    "order by weight asc \\\n",
    "limit 3\"\n",
    "cur.execute(sql)\n",
    "for tuple in cur.fetchall():\n",
    "    print(tuple)"
   ]
  },
  {
   "cell_type": "markdown",
   "id": "ebd5b7d6-9f46-469c-b124-58166e8bb395",
   "metadata": {},
   "source": [
    "## 二、聚集函数"
   ]
  },
  {
   "cell_type": "markdown",
   "id": "a4cd2017-9da3-4afc-be72-eba5b2e6d7fc",
   "metadata": {
    "tags": []
   },
   "source": [
    "类似于 MongoDB 中的聚集函数，PostgreSQL 也提供了常用的聚集函数，如 max, min, count, avg, sum 等。聚集函数的使用常常伴随着分组操作，即按照字段先分组，然后对不同分组的特定字段进行聚合操作。下面来看一个简单的聚合："
   ]
  },
  {
   "cell_type": "markdown",
   "id": "eca48192-0783-475b-a259-4703a43c8390",
   "metadata": {},
   "source": [
    "### 例4：零件表 P 中求不同颜色的零件的平均重量并且保留两位小数"
   ]
  },
  {
   "cell_type": "code",
   "execution_count": 52,
   "id": "f6c636eb-a40b-46a1-9863-f349121a4e38",
   "metadata": {
    "tags": []
   },
   "outputs": [
    {
     "name": "stdout",
     "output_type": "stream",
     "text": [
      "('红 ', Decimal('18.67'))\n",
      "('绿 ', Decimal('17.00'))\n",
      "('蓝 ', Decimal('27.00'))\n"
     ]
    }
   ],
   "source": [
    "sql=\"select color , round(avg(weight),2) as avg_color \\\n",
    "from P \\\n",
    "group by color\"\n",
    "cur.execute(sql)\n",
    "for tuple in cur.fetchall():\n",
    "    print(tuple)"
   ]
  },
  {
   "cell_type": "markdown",
   "id": "bb65337a-2779-43cd-be63-efd1458e295e",
   "metadata": {},
   "source": [
    "如果不使用 group by 的话就是对所有表求均值；一般地，如果 select 出现了哪些除了聚集之外的字段，那么 group by 中也需要对应填上这些字段，不然可能会报错"
   ]
  },
  {
   "cell_type": "markdown",
   "id": "1be1af32-90d0-4e89-97c6-684650e8488b",
   "metadata": {},
   "source": [
    "以上，用到了 avg 聚合函数，和 round 这个 PostgreSQL 中内置的字段值转换函数，更多的函数可以参考https://blog.csdn.net/pg_hgdb/article/details/121612991"
   ]
  },
  {
   "cell_type": "code",
   "execution_count": 53,
   "id": "9662750a-e3d2-4a70-b10a-6dc4f1c0df88",
   "metadata": {
    "tags": []
   },
   "outputs": [
    {
     "name": "stdout",
     "output_type": "stream",
     "text": [
      "('红 ', Decimal('18.67'))\n",
      "('蓝 ', Decimal('27.00'))\n"
     ]
    }
   ],
   "source": [
    "# (1)\n",
    "sql=\"select color as c, round(avg(weight),2) as avg_color \\\n",
    "from P \\\n",
    "where color !='绿' \\\n",
    "group by c\"\n",
    "cur.execute(sql)\n",
    "for tuple in cur.fetchall():\n",
    "    print(tuple)"
   ]
  },
  {
   "cell_type": "markdown",
   "id": "ce17f6fe-b8ce-45fb-9217-5bc50e1f903d",
   "metadata": {},
   "source": [
    "对于以上 SQL 查询，我们需要了解其查询的顺序：\n",
    "\n",
    "1、先做 where 里面的筛选，即从 P 表中删除掉颜色为绿色的记录；\n",
    "\n",
    "2、从留存的记录中抽取 select 中需要用到的列，这里是选出来了 color 和 weght 两列；\n",
    "\n",
    "3、根据 group by 后面的字段进行分组，这里是按照 color 进行分组；\n",
    "\n",
    "4、做聚集，化多为一，这里就是将不同颜色组中的重量聚合成他的平均数；\n",
    "\n",
    "5、对聚集之后的字段做一些转换/重命名的操作"
   ]
  },
  {
   "cell_type": "markdown",
   "id": "24e6c80b-078f-46db-aad9-5de6ace735f1",
   "metadata": {},
   "source": [
    "了解到 where 的筛选操作是发生在聚集之前的，那么如果我们想在聚集之后再对其做一些筛选需要怎么做呢？用到 having 字段！\n",
    "\n",
    "having 字段和 where 字段都起到筛选作用，但是 having 发生在 where 之后，是用来对最终输出结果做一个筛选的。"
   ]
  },
  {
   "cell_type": "code",
   "execution_count": 54,
   "id": "12f9120f-8613-4cb7-8af9-5f5d5b695911",
   "metadata": {
    "tags": []
   },
   "outputs": [
    {
     "name": "stdout",
     "output_type": "stream",
     "text": [
      "('红 ', Decimal('18.67'))\n",
      "('蓝 ', Decimal('27.00'))\n"
     ]
    }
   ],
   "source": [
    "# （2）\n",
    "sql=\"select color , round(avg(weight),2) as avg_color \\\n",
    "from P \\\n",
    "group by color \\\n",
    "having color !='绿'\"\n",
    "cur.execute(sql)\n",
    "for tuple in cur.fetchall():\n",
    "    print(tuple)"
   ]
  },
  {
   "cell_type": "markdown",
   "id": "2aa17609-e2a2-478e-85e4-d47f720104b7",
   "metadata": {},
   "source": [
    "以上两条查询分别使用了 where，having 实现了对绿色的剔除，请体会两者的区别"
   ]
  },
  {
   "cell_type": "markdown",
   "id": "2aaccaad-8739-4aa4-b86a-25f5f50d18e3",
   "metadata": {},
   "source": [
    "### 练习2：查询供应情况表 SPJ，查询不同供应商提供给工程项目（但不包括 J）的零件总数，并且筛选出总供应数大于600的记录"
   ]
  },
  {
   "cell_type": "code",
   "execution_count": 55,
   "id": "b92fcf10-2ebd-4723-88eb-299d985e748e",
   "metadata": {
    "tags": []
   },
   "outputs": [
    {
     "name": "stdout",
     "output_type": "stream",
     "text": [
      "('S1', 900)\n",
      "('S5', 800)\n",
      "('S2', 1200)\n"
     ]
    }
   ],
   "source": [
    "\"\"\"\n",
    "('S1', 900)\n",
    "('S5', 800)\n",
    "('S2', 1200)\n",
    "\"\"\"\n",
    "sql=\"select SNO as S, sum(QTY) as sum_qty \\\n",
    "from SPJ \\\n",
    "where JNO != 'J1' \\\n",
    "GROUP BY SNO \\\n",
    "HAVING sum(QTY) > 600\"\n",
    "cur.execute(sql)\n",
    "for tuple in cur.fetchall():\n",
    "    print(tuple)"
   ]
  },
  {
   "cell_type": "markdown",
   "id": "14ee4373-7186-46c8-9476-2f76871de8d4",
   "metadata": {
    "tags": []
   },
   "source": [
    "## 三、嵌套查询"
   ]
  },
  {
   "cell_type": "markdown",
   "id": "49ccfe3e-f6ea-4767-930b-4060c8ab0c09",
   "metadata": {
    "tags": []
   },
   "source": [
    "嵌套查询指的是两个查询互相嵌套，一个查询作为子查询出现在另一个查询中。子查询常出现在 select、from、where 这三处。"
   ]
  },
  {
   "cell_type": "markdown",
   "id": "bbf38df2-4713-4165-a040-69b5b69aae08",
   "metadata": {},
   "source": [
    "### 例5：查询当地没有供应商的工程项目全部信息"
   ]
  },
  {
   "cell_type": "code",
   "execution_count": 56,
   "id": "648195f3-a1c5-447e-a60c-624660982dc8",
   "metadata": {
    "tags": []
   },
   "outputs": [
    {
     "name": "stdout",
     "output_type": "stream",
     "text": [
      "('J2', '一汽      ', '长春  ')\n",
      "('J5', '机车厂     ', '唐山  ')\n",
      "('J6', '无线电厂    ', '常州  ')\n",
      "('J7', '半导体厂    ', '南京  ')\n"
     ]
    }
   ],
   "source": [
    "#子查询出现在 where 中\n",
    "sql=\"select * \\\n",
    "from J \\\n",
    "where CITY not in \\\n",
    "(select distinct City from S) \"\n",
    "cur.execute(sql)\n",
    "for tuple in cur.fetchall():\n",
    "    print(tuple)"
   ]
  },
  {
   "cell_type": "markdown",
   "id": "03fa42ee-6a21-4ce9-8660-3ed18dcbf599",
   "metadata": {},
   "source": [
    "### 例6：剔除绿色求均值"
   ]
  },
  {
   "cell_type": "code",
   "execution_count": 57,
   "id": "27b3bb26-1444-47cd-b92a-4c4e37c8be35",
   "metadata": {
    "tags": []
   },
   "outputs": [
    {
     "name": "stdout",
     "output_type": "stream",
     "text": [
      "('红 ', Decimal('18.67'))\n",
      "('蓝 ', Decimal('27.00'))\n"
     ]
    }
   ],
   "source": [
    "#子查询出现在 from 中\n",
    "sql=\"select t.color,round(avg(t.weight),2) as avg_color \\\n",
    "from (select * from P where color !='绿')t \\\n",
    "group by t.color\"\n",
    "cur.execute(sql)\n",
    "for tuple in cur.fetchall():\n",
    "    print(tuple)"
   ]
  },
  {
   "cell_type": "markdown",
   "id": "650776a1-f87b-4a8b-a9d2-0d975a05c236",
   "metadata": {},
   "source": [
    "### 例7："
   ]
  },
  {
   "cell_type": "code",
   "execution_count": 58,
   "id": "f65250bf-64bb-475d-81f4-aad113a7ed17",
   "metadata": {
    "tags": []
   },
   "outputs": [
    {
     "name": "stdout",
     "output_type": "stream",
     "text": [
      "(Decimal('21.17'), 700)\n"
     ]
    }
   ],
   "source": [
    "#子查询出现在 select 中\n",
    "sql=\"select \\\n",
    "(select round(avg(weight),2) as avg_weight from P) as avg_weight, \\\n",
    "(select max(QTY) as max_QTY from SPJ) as max_QTY\"\n",
    "#这种情况往往是用来输出一些独立的信息\n",
    "cur.execute(sql)\n",
    "for tuple in cur.fetchall():\n",
    "    print(tuple)"
   ]
  },
  {
   "cell_type": "markdown",
   "id": "abf66136-d609-423f-aa42-bf8e3bf77cc3",
   "metadata": {},
   "source": [
    "当然，如果觉得嵌套查询让一个查询过于繁琐且不直观，我们可以使用 with as 这个关键字来先创建一个临时表"
   ]
  },
  {
   "cell_type": "markdown",
   "id": "f72c8def-2af9-4e70-b60d-5cb7c0856fd0",
   "metadata": {},
   "source": [
    "### 例8：作用同例6"
   ]
  },
  {
   "cell_type": "code",
   "execution_count": 59,
   "id": "037991a6-7cbf-42d1-8233-d2dc4f6a6bcf",
   "metadata": {
    "tags": []
   },
   "outputs": [
    {
     "name": "stdout",
     "output_type": "stream",
     "text": [
      "('红 ', Decimal('18.67'))\n",
      "('蓝 ', Decimal('27.00'))\n"
     ]
    }
   ],
   "source": [
    "sql=\"with tmp as (select color,weight from P where color !='绿') \\\n",
    "select color,round(avg(weight),2) as avg_color \\\n",
    "from tmp \\\n",
    "group by color\"\n",
    "cur.execute(sql)\n",
    "for tuple in cur.fetchall():\n",
    "    print(tuple)"
   ]
  },
  {
   "cell_type": "markdown",
   "id": "37a0662e-e982-433b-9e92-e5cf6887accd",
   "metadata": {
    "tags": []
   },
   "source": [
    "### 练习3：从供应关系表 SPJ 中找到，供应商和项目工程都不在北京的记录并且按照供应数量升序排序。"
   ]
  },
  {
   "cell_type": "markdown",
   "id": "1e4afb06-90bb-40c6-94ac-18adbb24f5df",
   "metadata": {},
   "source": [
    "提示：with as 创建多张临时表\n",
    "with t as (select * from cx.over_test),\n",
    "    t1 as (select * from t where ord='1')"
   ]
  },
  {
   "cell_type": "code",
   "execution_count": 60,
   "id": "97cdf27a-b6b7-4a4f-aaab-0c45607925fe",
   "metadata": {
    "tags": []
   },
   "outputs": [
    {
     "name": "stdout",
     "output_type": "stream",
     "text": [
      "('S1', 'P1', 'J3', 100)\n",
      "('S5', 'P2', 'J4', 100)\n",
      "('S1', 'P2', 'J2', 100)\n",
      "('S4', 'P6', 'J4', 200)\n",
      "('S5', 'P6', 'J2', 200)\n",
      "('S4', 'P6', 'J3', 300)\n",
      "('S5', 'P6', 'J4', 500)\n",
      "('S1', 'P1', 'J4', 700)\n"
     ]
    }
   ],
   "source": [
    "\"\"\"\n",
    "('S1', 'P1', 'J3', 100)\n",
    "('S5', 'P2', 'J4', 100)\n",
    "('S1', 'P2', 'J2', 100)\n",
    "('S4', 'P6', 'J4', 200)\n",
    "('S5', 'P6', 'J2', 200)\n",
    "('S4', 'P6', 'J3', 300)\n",
    "('S5', 'P6', 'J4', 500)\n",
    "('S1', 'P1', 'J4', 700)\n",
    "\"\"\"\n",
    "sql=\"SELECT SNO, PNO, JNO, QTY FROM SPJ WHERE SNO IN ( SELECT SNO FROM S WHERE CITY != '北京' ) AND JNO IN ( SELECT JNO FROM J WHERE CITY != '北京' ) ORDER BY QTY\"\n",
    "cur.execute(sql)\n",
    "for tuple in cur.fetchall():\n",
    "    print(tuple)"
   ]
  },
  {
   "cell_type": "markdown",
   "id": "723629b8-3aec-4be0-95e0-5e03ef33bc91",
   "metadata": {},
   "source": [
    "## 四、多表连接"
   ]
  },
  {
   "cell_type": "markdown",
   "id": "30d55af4-863c-4b91-b54f-123558114e7d",
   "metadata": {},
   "source": [
    "多表连接查询出现在，我们需要的信息在往往分布在多张表中。来看一个多表查询的例子："
   ]
  },
  {
   "cell_type": "markdown",
   "id": "a320bdc4-446c-4d36-90e3-b78b39a5b351",
   "metadata": {},
   "source": [
    "### 例9：查询供应关系表，并且需要将 Sno 转换成 Sname。"
   ]
  },
  {
   "cell_type": "markdown",
   "id": "8b1e5abb-4a8b-4a37-9fbc-b2188015b8b1",
   "metadata": {},
   "source": [
    "这个虽然通过 case--when 关键字可以实现，但是编写起来比较繁复而且不适用于大批量的转换。Sno 和 Sname 对应信息包含在 S 表中，因此我们需要通过连接两表来查询所需信息。"
   ]
  },
  {
   "cell_type": "code",
   "execution_count": 61,
   "id": "0819b2a5-15b8-4930-bea0-daf40dbaa98a",
   "metadata": {
    "tags": []
   },
   "outputs": [
    {
     "name": "stdout",
     "output_type": "stream",
     "text": [
      "('精益    ', 'P1', 'J1', 200)\n",
      "('精益    ', 'P1', 'J3', 100)\n",
      "('精益    ', 'P1', 'J4', 700)\n",
      "('精益    ', 'P2', 'J2', 100)\n",
      "('盛锡    ', 'P3', 'J1', 400)\n",
      "('盛锡    ', 'P3', 'J2', 200)\n",
      "('盛锡    ', 'P3', 'J4', 500)\n",
      "('盛锡    ', 'P3', 'J5', 400)\n",
      "('盛锡    ', 'P5', 'J1', 400)\n",
      "('盛锡    ', 'P5', 'J2', 100)\n",
      "('东方红   ', 'P1', 'J1', 200)\n",
      "('东方红   ', 'P3', 'J1', 200)\n",
      "('丰泰盛   ', 'P5', 'J1', 100)\n",
      "('丰泰盛   ', 'P6', 'J3', 300)\n",
      "('丰泰盛   ', 'P6', 'J4', 200)\n",
      "('为民    ', 'P2', 'J4', 100)\n",
      "('为民    ', 'P3', 'J1', 200)\n",
      "('为民    ', 'P6', 'J2', 200)\n",
      "('为民    ', 'P6', 'J4', 500)\n"
     ]
    }
   ],
   "source": [
    "sql=\"select S.Sname,SPJ.Pno,SPJ.Jno,SPJ.QTY \\\n",
    "from SPJ,S \\\n",
    "where SPJ.Sno=S.sno\"\n",
    "cur.execute(sql)\n",
    "for tuple in cur.fetchall():\n",
    "    print(tuple)"
   ]
  },
  {
   "cell_type": "markdown",
   "id": "8368bfd3-1abf-43cc-bd7f-15b2f4c47f62",
   "metadata": {},
   "source": [
    "咱们继续来看看这个 SQL 的查询顺序：\n",
    "\n",
    "1、首先就是执行 from 中的两张表的全连接，假设这两张表尺寸分别是 L1 行 M 列，L2 行 N 列，那么连接后的表尺寸是（L1 * L2）行（M + N）列。即表一的每一条记录都会拼接表2的每条记录出现在连接后的表中；\n",
    "\n",
    "2、对连接后的表执行 where 筛选；\n",
    "\n",
    "3、执行 select 等一些后续操作。"
   ]
  },
  {
   "cell_type": "markdown",
   "id": "1fd4ebe6-00f9-4e5f-a96e-7b48e0ada4ae",
   "metadata": {},
   "source": [
    "下面再来看一条查询，作用和上一条查询一样："
   ]
  },
  {
   "cell_type": "code",
   "execution_count": 62,
   "id": "6bd2c808-1a7d-4516-a741-1123fcd9d76d",
   "metadata": {
    "tags": []
   },
   "outputs": [
    {
     "name": "stdout",
     "output_type": "stream",
     "text": [
      "('精益    ', 'P1', 'J1', 200)\n",
      "('精益    ', 'P1', 'J3', 100)\n",
      "('精益    ', 'P1', 'J4', 700)\n",
      "('精益    ', 'P2', 'J2', 100)\n",
      "('盛锡    ', 'P3', 'J1', 400)\n",
      "('盛锡    ', 'P3', 'J2', 200)\n",
      "('盛锡    ', 'P3', 'J4', 500)\n",
      "('盛锡    ', 'P3', 'J5', 400)\n",
      "('盛锡    ', 'P5', 'J1', 400)\n",
      "('盛锡    ', 'P5', 'J2', 100)\n",
      "('东方红   ', 'P1', 'J1', 200)\n",
      "('东方红   ', 'P3', 'J1', 200)\n",
      "('丰泰盛   ', 'P5', 'J1', 100)\n",
      "('丰泰盛   ', 'P6', 'J3', 300)\n",
      "('丰泰盛   ', 'P6', 'J4', 200)\n",
      "('为民    ', 'P2', 'J4', 100)\n",
      "('为民    ', 'P3', 'J1', 200)\n",
      "('为民    ', 'P6', 'J2', 200)\n",
      "('为民    ', 'P6', 'J4', 500)\n"
     ]
    }
   ],
   "source": [
    "sql=\"select S.Sname,SPJ.Pno,SPJ.Jno,SPJ.QTY \\\n",
    "from SPJ full join S on SPJ.Sno=S.Sno\"\n",
    "cur.execute(sql)\n",
    "for tuple in cur.fetchall():\n",
    "    print(tuple)"
   ]
  },
  {
   "cell_type": "markdown",
   "id": "c6d7506d-5721-4dd5-bfa2-cdaf9c90c0ce",
   "metadata": {},
   "source": [
    "这里使用 on 这个关键字也实现和 where 一样的功能，但是这两者的区别是什么呢？"
   ]
  },
  {
   "cell_type": "markdown",
   "id": "78fc90be-c09e-48fb-8200-4bcf59af01d2",
   "metadata": {},
   "source": [
    "### 练习4：可百度，基于以上功能相同的两条语句，说明 where 和 on 的区别？哪一种方式效率高？"
   ]
  },
  {
   "cell_type": "markdown",
   "id": "cfac0ffc-19fb-4bfc-9f81-c7faa68aca38",
   "metadata": {},
   "source": [
    "答：在第一个查询中，`where`子句用于筛选已连接的行。它基于连接的结果对行进行过滤；在第二个查询中，`on`子句用于指定连接条件，而不是用于筛选已连接的行。在许多情况下，内连接可能更有效，因为它只返回匹配的行，而不会包括不匹配的行。而外连接通常需要更多的处理，因为它可能包括更多的数据。"
   ]
  },
  {
   "cell_type": "markdown",
   "id": "e143f54f-4d9d-4c2c-94d8-2ae25bf3e50d",
   "metadata": {},
   "source": [
    "**full join, inner join, left join 和 right join 的区别：**"
   ]
  },
  {
   "cell_type": "markdown",
   "id": "1d5bd5fa-4cfb-4775-aebc-d2d45790dff2",
   "metadata": {},
   "source": [
    "这是两张数据表连接的三种方式，都需要后面接上 on 关键字。\n",
    "\n",
    "对与`A inner join B on A.id=B.id`：只有 A，B 都含有的 id 记录才会出现在连接后的表中，保留了两表的共有字段；\n",
    "\n",
    "对与`A full join B on A.id=B.id`：任意一方含有的 id 记录都会出现在连接后的表中，不含 id 的表的相关字段会赋上空值，保留了两表的全部字段；\n",
    "\n",
    "对与`A left join B on A.id=B.id`：连接后的表的 id 仅来自于 A 表中，A 表不含的 id 但 B 表含有的 id 是不会出现在结果中的,即连接后的表包含了 A 表的全部字段。常用在对 A 表进行字段扩充的场景。\n",
    "\n",
    "对与`A right join B on A.id=B.id`：参考 left join, 这里 B 表是主角"
   ]
  },
  {
   "cell_type": "markdown",
   "id": "4c60c318-fb6e-4c68-ae99-3d723a289513",
   "metadata": {},
   "source": [
    "更多介绍https://zhuanlan.zhihu.com/p/453311534"
   ]
  },
  {
   "cell_type": "markdown",
   "id": "29f94287-497c-4d73-bbcd-175957f2de34",
   "metadata": {},
   "source": [
    "为了说明left join，我们先往S表插入一条SPJ表中所没有的Sno记录。注意以下sql由于主键约束，只能运行一次"
   ]
  },
  {
   "cell_type": "code",
   "execution_count": 63,
   "id": "e6990a9a-dc81-40a2-b965-aa58d6940691",
   "metadata": {
    "tags": []
   },
   "outputs": [],
   "source": [
    "sql1=\"insert into S \\\n",
    "values\\\n",
    "('S9','name','11','台湾')\"\n",
    "cur.execute(sql1)"
   ]
  },
  {
   "cell_type": "markdown",
   "id": "6469b001-8718-4bc2-8c3d-76a9edadf079",
   "metadata": {},
   "source": [
    "### 例10：将 S 表和 SPJ 表通过 Sno 按照不同的方式连接"
   ]
  },
  {
   "cell_type": "code",
   "execution_count": 64,
   "id": "ec551205-bd4b-4027-91e9-34aa0ba22df9",
   "metadata": {
    "tags": []
   },
   "outputs": [
    {
     "name": "stdout",
     "output_type": "stream",
     "text": [
      "('S1', '精益    ', '20', '天津  ')\n",
      "('S2', '盛锡    ', '10', '北京  ')\n",
      "('S3', '东方红   ', '30', '北京  ')\n",
      "('S4', '丰泰盛   ', '20', '天津  ')\n",
      "('S5', '为民    ', '30', '上海  ')\n",
      "('S9', 'name  ', '11', '台湾  ')\n"
     ]
    }
   ],
   "source": [
    "sql=\"select S.* from S\"\n",
    "cur.execute(sql)\n",
    "for tuple in cur.fetchall():\n",
    "    print(tuple)"
   ]
  },
  {
   "cell_type": "code",
   "execution_count": 65,
   "id": "c76b3fb3-3dd3-4bea-b869-723b87d14402",
   "metadata": {
    "tags": []
   },
   "outputs": [
    {
     "name": "stdout",
     "output_type": "stream",
     "text": [
      "('S1', '精益    ', '20', '天津  ', '||||', 'S1', 'P1', 'J1', 200)\n",
      "('S1', '精益    ', '20', '天津  ', '||||', 'S1', 'P1', 'J3', 100)\n",
      "('S1', '精益    ', '20', '天津  ', '||||', 'S1', 'P1', 'J4', 700)\n",
      "('S1', '精益    ', '20', '天津  ', '||||', 'S1', 'P2', 'J2', 100)\n",
      "('S2', '盛锡    ', '10', '北京  ', '||||', 'S2', 'P3', 'J1', 400)\n",
      "('S2', '盛锡    ', '10', '北京  ', '||||', 'S2', 'P3', 'J2', 200)\n",
      "('S2', '盛锡    ', '10', '北京  ', '||||', 'S2', 'P3', 'J4', 500)\n",
      "('S2', '盛锡    ', '10', '北京  ', '||||', 'S2', 'P3', 'J5', 400)\n",
      "('S2', '盛锡    ', '10', '北京  ', '||||', 'S2', 'P5', 'J1', 400)\n",
      "('S2', '盛锡    ', '10', '北京  ', '||||', 'S2', 'P5', 'J2', 100)\n",
      "('S3', '东方红   ', '30', '北京  ', '||||', 'S3', 'P1', 'J1', 200)\n",
      "('S3', '东方红   ', '30', '北京  ', '||||', 'S3', 'P3', 'J1', 200)\n",
      "('S4', '丰泰盛   ', '20', '天津  ', '||||', 'S4', 'P5', 'J1', 100)\n",
      "('S4', '丰泰盛   ', '20', '天津  ', '||||', 'S4', 'P6', 'J3', 300)\n",
      "('S4', '丰泰盛   ', '20', '天津  ', '||||', 'S4', 'P6', 'J4', 200)\n",
      "('S5', '为民    ', '30', '上海  ', '||||', 'S5', 'P2', 'J4', 100)\n",
      "('S5', '为民    ', '30', '上海  ', '||||', 'S5', 'P3', 'J1', 200)\n",
      "('S5', '为民    ', '30', '上海  ', '||||', 'S5', 'P6', 'J2', 200)\n",
      "('S5', '为民    ', '30', '上海  ', '||||', 'S5', 'P6', 'J4', 500)\n",
      "('S9', 'name  ', '11', '台湾  ', '||||', None, None, None, None)\n"
     ]
    }
   ],
   "source": [
    "#left join\n",
    "sql=\"select S.*,'||||',SPJ.* \\\n",
    "from S left join SPJ on SPJ.Sno=S.sno\"\n",
    "cur.execute(sql)\n",
    "for tuple in cur.fetchall():\n",
    "    print(tuple)"
   ]
  },
  {
   "cell_type": "code",
   "execution_count": 66,
   "id": "5f78ec9d-6700-43a4-ac04-08ea72f6d612",
   "metadata": {
    "tags": []
   },
   "outputs": [
    {
     "name": "stdout",
     "output_type": "stream",
     "text": [
      "('S1', '精益    ', '20', '天津  ', '||||', 'S1', 'P1', 'J1', 200)\n",
      "('S1', '精益    ', '20', '天津  ', '||||', 'S1', 'P1', 'J3', 100)\n",
      "('S1', '精益    ', '20', '天津  ', '||||', 'S1', 'P1', 'J4', 700)\n",
      "('S1', '精益    ', '20', '天津  ', '||||', 'S1', 'P2', 'J2', 100)\n",
      "('S2', '盛锡    ', '10', '北京  ', '||||', 'S2', 'P3', 'J1', 400)\n",
      "('S2', '盛锡    ', '10', '北京  ', '||||', 'S2', 'P3', 'J2', 200)\n",
      "('S2', '盛锡    ', '10', '北京  ', '||||', 'S2', 'P3', 'J4', 500)\n",
      "('S2', '盛锡    ', '10', '北京  ', '||||', 'S2', 'P3', 'J5', 400)\n",
      "('S2', '盛锡    ', '10', '北京  ', '||||', 'S2', 'P5', 'J1', 400)\n",
      "('S2', '盛锡    ', '10', '北京  ', '||||', 'S2', 'P5', 'J2', 100)\n",
      "('S3', '东方红   ', '30', '北京  ', '||||', 'S3', 'P1', 'J1', 200)\n",
      "('S3', '东方红   ', '30', '北京  ', '||||', 'S3', 'P3', 'J1', 200)\n",
      "('S4', '丰泰盛   ', '20', '天津  ', '||||', 'S4', 'P5', 'J1', 100)\n",
      "('S4', '丰泰盛   ', '20', '天津  ', '||||', 'S4', 'P6', 'J3', 300)\n",
      "('S4', '丰泰盛   ', '20', '天津  ', '||||', 'S4', 'P6', 'J4', 200)\n",
      "('S5', '为民    ', '30', '上海  ', '||||', 'S5', 'P2', 'J4', 100)\n",
      "('S5', '为民    ', '30', '上海  ', '||||', 'S5', 'P3', 'J1', 200)\n",
      "('S5', '为民    ', '30', '上海  ', '||||', 'S5', 'P6', 'J2', 200)\n",
      "('S5', '为民    ', '30', '上海  ', '||||', 'S5', 'P6', 'J4', 500)\n",
      "('S9', 'name  ', '11', '台湾  ', '||||', None, None, None, None)\n"
     ]
    }
   ],
   "source": [
    "#full join\n",
    "sql=\"select S.*,'||||',SPJ.* \\\n",
    "from S full join SPJ on SPJ.Sno=S.sno\"\n",
    "cur.execute(sql)\n",
    "for tuple in cur.fetchall():\n",
    "    print(tuple)"
   ]
  },
  {
   "cell_type": "code",
   "execution_count": 67,
   "id": "83cec600-ae22-4623-8347-59aae47abf9e",
   "metadata": {
    "tags": []
   },
   "outputs": [
    {
     "name": "stdout",
     "output_type": "stream",
     "text": [
      "('S1', '精益    ', '20', '天津  ', '||||', 'S1', 'P1', 'J1', 200)\n",
      "('S1', '精益    ', '20', '天津  ', '||||', 'S1', 'P1', 'J3', 100)\n",
      "('S1', '精益    ', '20', '天津  ', '||||', 'S1', 'P1', 'J4', 700)\n",
      "('S1', '精益    ', '20', '天津  ', '||||', 'S1', 'P2', 'J2', 100)\n",
      "('S2', '盛锡    ', '10', '北京  ', '||||', 'S2', 'P3', 'J1', 400)\n",
      "('S2', '盛锡    ', '10', '北京  ', '||||', 'S2', 'P3', 'J2', 200)\n",
      "('S2', '盛锡    ', '10', '北京  ', '||||', 'S2', 'P3', 'J4', 500)\n",
      "('S2', '盛锡    ', '10', '北京  ', '||||', 'S2', 'P3', 'J5', 400)\n",
      "('S2', '盛锡    ', '10', '北京  ', '||||', 'S2', 'P5', 'J1', 400)\n",
      "('S2', '盛锡    ', '10', '北京  ', '||||', 'S2', 'P5', 'J2', 100)\n",
      "('S3', '东方红   ', '30', '北京  ', '||||', 'S3', 'P1', 'J1', 200)\n",
      "('S3', '东方红   ', '30', '北京  ', '||||', 'S3', 'P3', 'J1', 200)\n",
      "('S4', '丰泰盛   ', '20', '天津  ', '||||', 'S4', 'P5', 'J1', 100)\n",
      "('S4', '丰泰盛   ', '20', '天津  ', '||||', 'S4', 'P6', 'J3', 300)\n",
      "('S4', '丰泰盛   ', '20', '天津  ', '||||', 'S4', 'P6', 'J4', 200)\n",
      "('S5', '为民    ', '30', '上海  ', '||||', 'S5', 'P2', 'J4', 100)\n",
      "('S5', '为民    ', '30', '上海  ', '||||', 'S5', 'P3', 'J1', 200)\n",
      "('S5', '为民    ', '30', '上海  ', '||||', 'S5', 'P6', 'J2', 200)\n",
      "('S5', '为民    ', '30', '上海  ', '||||', 'S5', 'P6', 'J4', 500)\n"
     ]
    }
   ],
   "source": [
    "#inner join\n",
    "sql=\"select S.*,'||||',SPJ.* \\\n",
    "from S inner join SPJ on SPJ.Sno=S.sno\"\n",
    "cur.execute(sql)\n",
    "for tuple in cur.fetchall():\n",
    "    print(tuple)"
   ]
  },
  {
   "cell_type": "markdown",
   "id": "020cae2e-3d09-4fdd-9e61-2d95ff0400b7",
   "metadata": {},
   "source": [
    "观察上面 S9 的记录，体会这几种 join 方式的区别"
   ]
  },
  {
   "cell_type": "markdown",
   "id": "c03bd4b4-5edc-4f1f-9b2e-8a3547b002df",
   "metadata": {
    "tags": []
   },
   "source": [
    "### 练习5：将 SPJ 表中的 no 全部转化为 name"
   ]
  },
  {
   "cell_type": "code",
   "execution_count": 68,
   "id": "01b3d067-4d17-467e-9231-3e79e45b187a",
   "metadata": {
    "tags": []
   },
   "outputs": [
    {
     "name": "stdout",
     "output_type": "stream",
     "text": [
      "('精益    ', '螺母    ', '三建      ', 200)\n",
      "('精益    ', '螺母    ', '弹簧厂     ', 100)\n",
      "('精益    ', '螺母    ', '造船厂     ', 700)\n",
      "('精益    ', '螺栓    ', '一汽      ', 100)\n",
      "('盛锡    ', '螺丝刀   ', '三建      ', 400)\n",
      "('盛锡    ', '螺丝刀   ', '一汽      ', 200)\n",
      "('盛锡    ', '螺丝刀   ', '造船厂     ', 500)\n",
      "('盛锡    ', '螺丝刀   ', '机车厂     ', 400)\n",
      "('盛锡    ', '凸轮    ', '三建      ', 400)\n",
      "('盛锡    ', '凸轮    ', '一汽      ', 100)\n",
      "('东方红   ', '螺母    ', '三建      ', 200)\n",
      "('东方红   ', '螺丝刀   ', '三建      ', 200)\n",
      "('丰泰盛   ', '凸轮    ', '三建      ', 100)\n",
      "('丰泰盛   ', '齿轮    ', '弹簧厂     ', 300)\n",
      "('丰泰盛   ', '齿轮    ', '造船厂     ', 200)\n",
      "('为民    ', '螺栓    ', '造船厂     ', 100)\n",
      "('为民    ', '螺丝刀   ', '三建      ', 200)\n",
      "('为民    ', '齿轮    ', '一汽      ', 200)\n",
      "('为民    ', '齿轮    ', '造船厂     ', 500)\n"
     ]
    }
   ],
   "source": [
    "sql=\"select S.Sname,P.Pname,J.Jname,SPJ.QTY \\\n",
    "from SPJ,S,P,J \\\n",
    "where SPJ.Sno=S.sno AND SPJ.Pno=P.pno AND SPJ.Jno=J.jno\"\n",
    "cur.execute(sql)\n",
    "for tuple in cur.fetchall():\n",
    "    print(tuple)"
   ]
  },
  {
   "cell_type": "markdown",
   "id": "b5caebbc-26db-4927-a44e-0ac426cac263",
   "metadata": {},
   "source": [
    "### 练习6：对零件表 P 按照 color 分组，并且求出每一组重量的方差。要求不使用方差或标准差的聚集函数，只使用 sum，avg，count 等上述提到的聚集函数。"
   ]
  },
  {
   "cell_type": "code",
   "execution_count": 74,
   "id": "d98abb8c-8e8b-4396-9efd-0db20e9f01f7",
   "metadata": {
    "tags": []
   },
   "outputs": [
    {
     "name": "stdout",
     "output_type": "stream",
     "text": [
      "('红 ', Decimal('64.89'))\n",
      "('绿 ', Decimal('0.00'))\n",
      "('蓝 ', Decimal('169.00'))\n"
     ]
    }
   ],
   "source": [
    "\"\"\"\n",
    "('红 ', 64.89)\n",
    "('绿 ', 0)\n",
    "('蓝 ', 169)\n",
    "\"\"\"\n",
    "sql=\"SELECT color, ROUND(SUM((weight - avg_weight) * (weight - avg_weight)) / COUNT(weight),2) AS variance FROM ( SELECT color, weight, AVG(weight) OVER(PARTITION BY color) AS avg_weight FROM P) subquery GROUP BY color\"\n",
    "cur.execute(sql)\n",
    "for tuple in cur.fetchall():\n",
    "    print(tuple)"
   ]
  },
  {
   "cell_type": "markdown",
   "id": "8e235f5c-3d60-4fe3-801d-892207ef794f",
   "metadata": {},
   "source": [
    "### 练习7：描述你所编写的练习6中 SQL 的查询顺序"
   ]
  },
  {
   "cell_type": "markdown",
   "id": "b62d5a71-b4b2-48db-a0ea-061a0da2d8bf",
   "metadata": {},
   "source": [
    "答：这个查询中，首先使用窗口函数`AVG`计算每个颜色组的平均重量。然后，在子查询中，计算每个重量与其对应颜色组的平均重量的差的平方，最后求和。最后，在外部查询中，按颜色分组并计算方差。"
   ]
  },
  {
   "cell_type": "markdown",
   "id": "2cbf57c4-6fe5-4c63-aa3c-4309e811bce6",
   "metadata": {},
   "source": [
    "## 五、窗口函数"
   ]
  },
  {
   "cell_type": "markdown",
   "id": "d56b800e-bd4e-48f8-8c4e-794c85fd779f",
   "metadata": {},
   "source": [
    "在例3，我们查询了 P 表中所有零件的前三重量。但是如果我们需要知道不同颜色分组前三的质量呢？那就需要用到窗口函数"
   ]
  },
  {
   "cell_type": "markdown",
   "id": "eadedbb4-0421-4c85-bb4b-43f263c9cc2e",
   "metadata": {},
   "source": [
    "### 例11：SPJ 表，查询不同供应商供应量前三的信息"
   ]
  },
  {
   "cell_type": "code",
   "execution_count": 75,
   "id": "b62f49dd-0764-4f6e-88a7-dff5c704d762",
   "metadata": {
    "tags": []
   },
   "outputs": [
    {
     "name": "stdout",
     "output_type": "stream",
     "text": [
      "('S1', 'P1', 'J4', 700, 1)\n",
      "('S1', 'P1', 'J1', 200, 2)\n",
      "('S1', 'P2', 'J2', 100, 3)\n",
      "('S1', 'P1', 'J3', 100, 3)\n",
      "('S2', 'P3', 'J4', 500, 1)\n",
      "('S2', 'P5', 'J1', 400, 2)\n",
      "('S2', 'P3', 'J1', 400, 2)\n",
      "('S2', 'P3', 'J5', 400, 2)\n",
      "('S2', 'P3', 'J2', 200, 5)\n",
      "('S2', 'P5', 'J2', 100, 6)\n",
      "('S3', 'P3', 'J1', 200, 1)\n",
      "('S3', 'P1', 'J1', 200, 1)\n",
      "('S4', 'P6', 'J3', 300, 1)\n",
      "('S4', 'P6', 'J4', 200, 2)\n",
      "('S4', 'P5', 'J1', 100, 3)\n",
      "('S5', 'P6', 'J4', 500, 1)\n",
      "('S5', 'P3', 'J1', 200, 2)\n",
      "('S5', 'P6', 'J2', 200, 2)\n",
      "('S5', 'P2', 'J4', 100, 4)\n"
     ]
    }
   ],
   "source": [
    "sql=\"select *,rank() OVER (PARTITION BY Sno ORDER BY QTY DESC) as group_rank from SPJ\"\n",
    "cur.execute(sql)\n",
    "for tuple in cur.fetchall():\n",
    "    print(tuple)"
   ]
  },
  {
   "cell_type": "markdown",
   "id": "4f0b325a-5448-4f92-bcfe-48d0237a4e07",
   "metadata": {
    "tags": []
   },
   "source": [
    "从以上结果看出，除了 SPJ 表中的所有信息之外，结果中还多了一列，这就是窗口函数所起的作用---分组编号。\n",
    "\n",
    "来看`rank() OVER (PARTITION BY Sno ORDER BY QTY DESC)`：\n",
    "\n",
    "`rank()`：代表了如何编号，这里是标上排名。当然也存在 max，avg ..等常用“编号”函数\n",
    "\n",
    "`PARTITION BY 某个字段`：也就是按照这个分组，可省略那就是整张表作为一组。\n",
    "\n",
    "`ORDER BY 每个字段`：查询的结果中每个分组是按照这个字段排序后展示的"
   ]
  },
  {
   "cell_type": "markdown",
   "id": "9bd3c2db-c6ab-483e-8440-47bf92c49b27",
   "metadata": {
    "tags": []
   },
   "source": [
    "**值得注意的是，观看 S5 的分组：**\n",
    "\n",
    "rank() 使得窗口函数那一列的结果是：1-2-2-4\n",
    "\n",
    "此外：\n",
    "\n",
    "dense_rank() 可以输出：1-2-2-3\n",
    "\n",
    "row_number() 可以输出：1-2-3-4"
   ]
  },
  {
   "cell_type": "markdown",
   "id": "06329b4d-35ce-443a-876b-c9968ee7c81f",
   "metadata": {},
   "source": [
    "窗口函数在实际企业大规模的数据分析中是非常实用的一类技巧。如果考虑和数据分析或者数据开发相关的实习或工作的同学可以深入了解一下窗口函数，通过面试的可能性更大！！https://blog.csdn.net/u011447403/article/details/122877396"
   ]
  },
  {
   "cell_type": "markdown",
   "id": "98545df8-f466-4d8a-8b9b-889bf3c39715",
   "metadata": {},
   "source": [
    "### 练习8：对零件表按重量升序排序，附加一列累和"
   ]
  },
  {
   "cell_type": "code",
   "execution_count": 79,
   "id": "3aeeb19f-36d6-40db-8329-23ee7f016839",
   "metadata": {
    "tags": []
   },
   "outputs": [
    {
     "name": "stdout",
     "output_type": "stream",
     "text": [
      "('P1', '螺母    ', '红 ', 12, 12)\n",
      "('P3', '螺丝刀   ', '蓝 ', 14, 40)\n",
      "('P4', '螺丝刀   ', '红 ', 14, 40)\n",
      "('P2', '螺栓    ', '绿 ', 17, 57)\n",
      "('P6', '齿轮    ', '红 ', 30, 87)\n",
      "('P5', '凸轮    ', '蓝 ', 40, 127)\n"
     ]
    }
   ],
   "source": [
    "\"\"\"\n",
    "每一列为当前所列的累和\n",
    "('P1', '螺母    ', '红 ', 12, 12)\n",
    "('P3', '螺丝刀   ', '蓝 ', 14, 40)\n",
    "('P4', '螺丝刀   ', '红 ', 14, 40)\n",
    "('P2', '螺栓    ', '绿 ', 17, 57)\n",
    "('P6', '齿轮    ', '红 ', 30, 87)\n",
    "('P5', '凸轮    ', '蓝 ', 40, 127)\n",
    "\"\"\"\n",
    "sql=\"select *,SUM(weight) OVER (ORDER BY weight) as cumulative_sum from P\"\n",
    "cur.execute(sql)\n",
    "for tuple in cur.fetchall():\n",
    "    print(tuple)"
   ]
  },
  {
   "cell_type": "code",
   "execution_count": 80,
   "id": "02f7e36a-8053-44ff-adc3-21b94e06d5a7",
   "metadata": {
    "tags": []
   },
   "outputs": [],
   "source": [
    "#删除数据表\n",
    "sql = \"DROP TABLE SPJ; \" + \\\n",
    "      \"DROP TABLE S; \" + \\\n",
    "      \"DROP TABLE P; \" + \\\n",
    "      \"DROP TABLE J; \"\n",
    "\n",
    "cur.execute(sql)"
   ]
  }
 ],
 "metadata": {
  "kernelspec": {
   "display_name": "Python 3 (ipykernel)",
   "language": "python",
   "name": "python3"
  },
  "language_info": {
   "codemirror_mode": {
    "name": "ipython",
    "version": 3
   },
   "file_extension": ".py",
   "mimetype": "text/x-python",
   "name": "python",
   "nbconvert_exporter": "python",
   "pygments_lexer": "ipython3",
   "version": "3.10.9"
  }
 },
 "nbformat": 4,
 "nbformat_minor": 5
}
