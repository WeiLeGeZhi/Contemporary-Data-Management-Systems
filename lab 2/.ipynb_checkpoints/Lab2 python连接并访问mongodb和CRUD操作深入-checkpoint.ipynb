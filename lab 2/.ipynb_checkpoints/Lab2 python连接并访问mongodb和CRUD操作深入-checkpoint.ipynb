{
 "cells": [
  {
   "cell_type": "markdown",
   "id": "9e0699f8",
   "metadata": {
    "pycharm": {
     "name": "#%% md\n"
    }
   },
   "source": [
    "# Lab2 python连接并访问mongodb和CRUD操作深入"
   ]
  },
  {
   "cell_type": "markdown",
   "id": "7ee78074",
   "metadata": {
    "pycharm": {
     "name": "#%% md\n"
    }
   },
   "source": [
    "## 1. 连接monngodb数据库"
   ]
  },
  {
   "cell_type": "code",
   "execution_count": null,
   "id": "deb016a8",
   "metadata": {
    "pycharm": {
     "name": "#%%\n"
    }
   },
   "outputs": [],
   "source": [
    "#导入库\n",
    "import pymongo"
   ]
  },
  {
   "cell_type": "markdown",
   "id": "0eaeb9d7",
   "metadata": {
    "pycharm": {
     "name": "#%% md\n"
    }
   },
   "source": [
    "连接mongodb\n",
    "<br>\n",
    "如果是在本地连接，则采用     client= pymongo.MongoClient(\"mongodb://localhost:27017/\")  的方式连接。\n",
    "<br>\n",
    "不过，本次实验是在水杉云环境中进行，需要连接阿里云环境下的mongodb，请大家采用以下方式连接：\n",
    "<br>\n",
    "已经为大家创建好了MongoDB用户，**账号:stu学号；密码:Stu学号；数据库: stu学号**。\n",
    "<br>\n",
    "将下面句子中的中文替换为自己线上mongodb的账号，密码和数据库名  \n",
    "<br>\n",
    "`client = pymongo.MongoClient(\"mongodb://账号:密码@数据库.mongodb.rds.aliyuncs.com:3717,dase-cdms-2022-secondary-pub.mongodb.rds.aliyuncs.com:3717/admin?replicaSet=mgset-62456703\")`  \n",
    "<br>\n",
    "填写到下面的cell中"
   ]
  },
  {
   "cell_type": "code",
   "execution_count": null,
   "id": "39044163",
   "metadata": {
    "pycharm": {
     "name": "#%%\n"
    }
   },
   "outputs": [],
   "source": [
    "#连接mongodb\n"
   ]
  },
  {
   "cell_type": "markdown",
   "id": "929a219d",
   "metadata": {
    "pycharm": {
     "name": "#%% md\n"
    }
   },
   "source": [
    "每位用户只有操作本人数据库的权限。\n",
    "需要切换到到自己的数据库，以“stu1234数据库”为例   \n",
    "db = client['stu1234']  \n",
    "或者 db = client.stu1234"
   ]
  },
  {
   "cell_type": "code",
   "execution_count": null,
   "id": "31aa1d28",
   "metadata": {
    "pycharm": {
     "name": "#%%\n"
    }
   },
   "outputs": [],
   "source": [
    "#切换到自己的数据库\n"
   ]
  },
  {
   "cell_type": "code",
   "execution_count": null,
   "id": "89d5fe30",
   "metadata": {
    "pycharm": {
     "name": "#%%\n"
    }
   },
   "outputs": [],
   "source": [
    "# print 数据库名字，应是 “stu学号” 的格式\n",
    "print(client.list_database_names())"
   ]
  },
  {
   "cell_type": "code",
   "execution_count": null,
   "id": "b055cc52",
   "metadata": {
    "pycharm": {
     "name": "#%%\n"
    }
   },
   "outputs": [],
   "source": [
    "#获取集合，如果没有则自动创建，这里设定集合是users，在python中用users_col指代\n",
    "users_col = db['users']\n",
    "#或者\n",
    "# users_col = db.users"
   ]
  },
  {
   "cell_type": "code",
   "execution_count": null,
   "id": "fb4c2f4f",
   "metadata": {
    "pycharm": {
     "name": "#%%\n"
    }
   },
   "outputs": [],
   "source": [
    "#先将该集合中所有数据删除（删除操作讲解在最末尾），保证数据和lab2中第2部分插入数据后的一模一样\n",
    "#如有插入错误，可使用该语句重新插入\n",
    "users_col.delete_many({})"
   ]
  },
  {
   "cell_type": "markdown",
   "id": "e2d58727",
   "metadata": {
    "pycharm": {
     "name": "#%% md\n"
    }
   },
   "source": [
    "## 2. 插入数据\n",
    "- insert_one（参数)：插入一条数据，插入的参数就是Python的字典\n",
    "- insert_many(参数)：批量插入数据，参数为多个字典的列表"
   ]
  },
  {
   "cell_type": "markdown",
   "id": "3274384f",
   "metadata": {
    "pycharm": {
     "name": "#%% md\n"
    }
   },
   "source": [
    "插入一条用户数据"
   ]
  },
  {
   "cell_type": "code",
   "execution_count": null,
   "id": "0395b979",
   "metadata": {
    "pycharm": {
     "name": "#%%\n"
    }
   },
   "outputs": [],
   "source": [
    "user1 = {\n",
    "    \"name\" : \"xiaobu\",\n",
    "    \"country\" : \"China\",\n",
    "    \"address\" : {\n",
    "        \"aCode\" : \"001\",\n",
    "        \"aName\" : \"北京\"},\n",
    "    \"favorites\" : {\n",
    "        \"books\" : [ \n",
    "            \"西游记\", \n",
    "            \"红楼梦\", \n",
    "            \"三国演义\", \n",
    "            \"水浒传\"],\n",
    "        \"cites\" : [ \n",
    "            \"韶关\", \n",
    "            \"深圳\", \n",
    "            \"佛山\"]},\n",
    "    \"age\" : 26,\n",
    "    \"height\" : 1.70\n",
    "}\n",
    "result = users_col.insert_one(user1)"
   ]
  },
  {
   "cell_type": "code",
   "execution_count": null,
   "id": "dfde9736",
   "metadata": {
    "pycharm": {
     "name": "#%%\n"
    }
   },
   "outputs": [],
   "source": [
    "#为\"name\"字段创建唯一索引约束，保证同一name的文档只有一条能够插入。如果重复插入同一name的文档，则会报错，无法插入。\n",
    "users_col.create_index([(\"name\", 1)], unique=True)"
   ]
  },
  {
   "cell_type": "markdown",
   "id": "3f172300",
   "metadata": {
    "pycharm": {
     "name": "#%% md\n"
    }
   },
   "source": [
    "如果直接对插入的操作打印，返回的结果是pymongo.results.InsertOneResult格式"
   ]
  },
  {
   "cell_type": "code",
   "execution_count": null,
   "id": "a8052631",
   "metadata": {
    "pycharm": {
     "name": "#%%\n"
    }
   },
   "outputs": [],
   "source": [
    "print(result)"
   ]
  },
  {
   "cell_type": "markdown",
   "id": "bae08e05",
   "metadata": {
    "pycharm": {
     "name": "#%% md\n"
    }
   },
   "source": [
    "需要使用下面的语句才能成功输出数据表中的信息"
   ]
  },
  {
   "cell_type": "code",
   "execution_count": null,
   "id": "b2468b5b",
   "metadata": {
    "pycharm": {
     "name": "#%%\n"
    }
   },
   "outputs": [],
   "source": [
    "#下面2会讲到的find语句，现在先看看是否插入成功\n",
    "content = users_col.find()\n",
    "for each in content:\n",
    "    print(each)"
   ]
  },
  {
   "cell_type": "markdown",
   "id": "97a3e000",
   "metadata": {
    "pycharm": {
     "name": "#%% md\n"
    }
   },
   "source": [
    "如果显示一条数据，即插入成功。"
   ]
  },
  {
   "cell_type": "markdown",
   "id": "bb69f629",
   "metadata": {
    "pycharm": {
     "name": "#%% md\n"
    }
   },
   "source": [
    "#### 练习1：\n",
    "将下面一位用户的信息插入users表中：\n",
    "```\n",
    "{\n",
    "    \"name\" : \"juyi\",\n",
    "    \"country\" : \"China\",\n",
    "    \"address\" : {\n",
    "        \"aCode\" : \"002\",\n",
    "        \"aName\" : \"广州\"},\n",
    "    \"favorites\" : {\n",
    "        \"movies\" : [ \n",
    "            \"肖生克的救赎\", \n",
    "            \"阿甘正传\", \n",
    "            \"头号玩家\"],\n",
    "        \"cites\" : [ \n",
    "            \"衡阳\", \n",
    "            \"南宁\", \n",
    "            \"上海\", \n",
    "            \"深圳\"]},\n",
    "    \"age\" : 25,\n",
    "    \"height\" : 1.69\n",
    "}\n",
    "```"
   ]
  },
  {
   "cell_type": "markdown",
   "id": "d2d58bba",
   "metadata": {
    "pycharm": {
     "name": "#%% md\n"
    }
   },
   "source": [
    "#### 解答1："
   ]
  },
  {
   "cell_type": "code",
   "execution_count": null,
   "id": "1da60478",
   "metadata": {
    "pycharm": {
     "name": "#%%\n"
    }
   },
   "outputs": [],
   "source": []
  },
  {
   "cell_type": "code",
   "execution_count": null,
   "id": "20fd7038",
   "metadata": {
    "pycharm": {
     "name": "#%%\n"
    }
   },
   "outputs": [],
   "source": [
    "# 可使用该语句判断是否插入成功\n",
    "content = users_col.find()\n",
    "for each in content:\n",
    "    print(each)"
   ]
  },
  {
   "cell_type": "markdown",
   "id": "c0fee1f4",
   "metadata": {
    "pycharm": {
     "name": "#%% md\n"
    }
   },
   "source": [
    "<br>\n",
    "插入多条数据："
   ]
  },
  {
   "cell_type": "code",
   "execution_count": null,
   "id": "004dbb25",
   "metadata": {
    "pycharm": {
     "name": "#%%\n"
    }
   },
   "outputs": [],
   "source": [
    "more_users = [\n",
    "{\n",
    "    \"name\" : \"lilei\",\n",
    "    \"country\" : \"China\",\n",
    "    \"address\" : {\n",
    "        \"aCode\" : \"003\",\n",
    "        \"aName\" : \"上海\"},\n",
    "    \"favorites\" : {\n",
    "        \"books\" : [ \n",
    "            \"谁动了我的奶酪\", \n",
    "            \"CSAPP\"],\n",
    "        \"cites\" : [ \n",
    "            \"上海\", \n",
    "            \"杭州\"]},\n",
    "    \"age\" : 18,\n",
    "    \"height\" : 1.88\n",
    "},\n",
    "{\n",
    "    \"name\" : \"zhangsan\",\n",
    "    \"country\" : \"China\",\n",
    "    \"address\" : {\n",
    "        \"aCode\" : \"003\",\n",
    "        \"aName\" : \"上海\"},\n",
    "    \"favorites\" : {\n",
    "        \"movies\" : [ \n",
    "            \"头号玩家\", \n",
    "            \"肖生克的救赎\"\n",
    "            ],\n",
    "        \"cites\" : [ \n",
    "            \"旧金山\", \n",
    "            \"上海\"\n",
    "            ]},\n",
    "    \"age\" : 23,\n",
    "    \"height\" : 1.72\n",
    "},\n",
    "{\n",
    "    \"name\" : \"tony\",\n",
    "    \"country\" : \"USA\",\n",
    "    \"address\" : {\n",
    "        \"aCode\" : \"004\",\n",
    "        \"aName\" : \"洛杉矶\"},\n",
    "    \"favorites\" : {\n",
    "        \"books\" : [ \n",
    "            \"权利的游戏\", \n",
    "            \"飘\", \n",
    "            \"谁动了我的奶酪\"],\n",
    "        \"cites\" : [ \n",
    "            \"芝加哥\", \n",
    "            \"洛杉矶\"]},\n",
    "    \"age\" : 28,\n",
    "    \"height\" : 1.79\n",
    "}\n",
    "]\n",
    "users_col.insert_many(more_users)\n",
    "content = users_col.find()\n",
    "for each in content:\n",
    "    print(each)"
   ]
  },
  {
   "cell_type": "markdown",
   "id": "95a21545",
   "metadata": {
    "pycharm": {
     "name": "#%% md\n"
    }
   },
   "source": [
    "#### 练习2：\n",
    "插入下面多位user的信息（要求使用insert_many):\n",
    "```\n",
    "user6 = {\n",
    "    \"name\" : \"xiaoxiaobu\",\n",
    "    \"country\" : \"USA\",\n",
    "    \"address\" : {\n",
    "        \"aCode\" : \"001\",\n",
    "        \"aName\" : \"纽约\"},\n",
    "    \"favorites\" : {\n",
    "        \"books\" : [ \n",
    "            \"权利的游戏\", \n",
    "            \"教父\"],\n",
    "        \"cites\" : [ \n",
    "            \"芝加哥\", \n",
    "            \"芝加哥\", \n",
    "            \"洛杉矶\"]},\n",
    "    \"age\" : 26,\n",
    "    \"height\" : 1.78\n",
    "}\n",
    "\n",
    "user7 = {\n",
    "    \"name\" : \"lisa\",\n",
    "    \"country\" : \"USA\",\n",
    "    \"address\" : {\n",
    "        \"aCode\" : \"001\",\n",
    "        \"aName\" : \"纽约\"},\n",
    "    \"favorites\" : {\n",
    "        \"books\" : [ \n",
    "            \"权利的游戏\", \n",
    "            \"飘\", \n",
    "            \"谁动了我的奶酪\"],\n",
    "        \"cites\" : [ \n",
    "            \"芝加哥\", \n",
    "            \"芝加哥\", \n",
    "            \"洛杉矶\"]},\n",
    "    \"age\" : 20,\n",
    "    \"height\" : 1.71\n",
    "}\n",
    "\n",
    "user8 = {\n",
    "    \"name\" : \"xiaoxiao\",\n",
    "    \"country\" : \"USA\",\n",
    "    \"address\" : {\n",
    "        \"aCode\" : \"005\",\n",
    "        \"aName\" : \"费城\"},\n",
    "    \"favorites\" : {\n",
    "        \"books\" : [ \n",
    "            \"权利的游戏\", \n",
    "            \"飘\"],\n",
    "        \"cites\" : [ \n",
    "            \"芝加哥\", \n",
    "            \"芝加哥\", \n",
    "            \"洛杉矶\"]},\n",
    "    \"age\" : 21,\n",
    "    \"height\" : 1.75\n",
    "}\n",
    "```"
   ]
  },
  {
   "cell_type": "markdown",
   "id": "941fabcf",
   "metadata": {
    "pycharm": {
     "name": "#%% md\n"
    }
   },
   "source": [
    "#### 解答2："
   ]
  },
  {
   "cell_type": "code",
   "execution_count": null,
   "id": "f6aea62d",
   "metadata": {
    "pycharm": {
     "name": "#%%\n"
    }
   },
   "outputs": [],
   "source": []
  },
  {
   "cell_type": "markdown",
   "id": "7e7ef455",
   "metadata": {
    "pycharm": {
     "name": "#%% md\n"
    }
   },
   "source": [
    "<br>\n",
    "后续的操作需要保证8位用户的数据都插入成功。"
   ]
  },
  {
   "cell_type": "markdown",
   "id": "c962ccfb",
   "metadata": {
    "pycharm": {
     "name": "#%% md\n"
    }
   },
   "source": [
    "**！注意：第3部分中的练习都需要保证8条用户的记录都为原始记录，如果操作了更新和删除数据，可以使用`users_col.delete_many({})`删除所有数据，再重新插入所有用户数据。**"
   ]
  },
  {
   "cell_type": "markdown",
   "id": "264c198d",
   "metadata": {
    "pycharm": {
     "name": "#%% md\n"
    }
   },
   "source": [
    "## 3. 查找数据\n",
    "MongoDB的查找功能对应的方法是\n",
    "- find(查询条件，返回字段)\n",
    "- find_one(查询条件，返回字段)：一次只返回一次信息\n",
    "\n",
    "\n",
    "返回字段为一个字典`{key:value}`，key为字段名称，value为`0`（不返回该字段）或`1`（返回该字段）。  \n",
    "其中_id是一个特殊字段，只有指定`_id:0`才不会返回，否则默认返回。"
   ]
  },
  {
   "cell_type": "markdown",
   "id": "2ff70954",
   "metadata": {
    "pycharm": {
     "name": "#%% md\n"
    }
   },
   "source": [
    "### 3.1 基础查询\n",
    "find()返回的是可迭代的PyMongo对象，这个对象可以被for循环展开。展开后得到每一条都是记录的字典。"
   ]
  },
  {
   "cell_type": "markdown",
   "id": "f30de840",
   "metadata": {
    "pycharm": {
     "name": "#%% md\n"
    }
   },
   "source": [
    "查找年龄为25岁，并且只显示名字。"
   ]
  },
  {
   "cell_type": "code",
   "execution_count": null,
   "id": "78e9cb04",
   "metadata": {
    "pycharm": {
     "name": "#%%\n"
    }
   },
   "outputs": [],
   "source": [
    "result = users_col.find({'age': 25}, {'_id': 0, 'name': 1})\n",
    "print(type(result))\n",
    "for each in result:\n",
    "    print(each)"
   ]
  },
  {
   "cell_type": "markdown",
   "id": "67afb83a",
   "metadata": {
    "pycharm": {
     "name": "#%% md\n"
    }
   },
   "source": [
    "还可以以下面这种形式输出：  \n",
    "将for循环写在列表中，具体语法可参考https://blog.csdn.net/xuxiao1991101/article/details/50815146"
   ]
  },
  {
   "cell_type": "code",
   "execution_count": null,
   "id": "26732567",
   "metadata": {
    "pycharm": {
     "name": "#%%\n"
    }
   },
   "outputs": [],
   "source": [
    "content = [x for x in users_col.find({'age': 25}, {'_id': 0, 'name': 1})]\n",
    "print(content)"
   ]
  },
  {
   "cell_type": "markdown",
   "id": "8e8870c4",
   "metadata": {
    "pycharm": {
     "name": "#%% md\n"
    }
   },
   "source": [
    "显示所有数据（在前面多次使用）"
   ]
  },
  {
   "cell_type": "code",
   "execution_count": null,
   "id": "3b98b054",
   "metadata": {
    "pycharm": {
     "name": "#%%\n"
    }
   },
   "outputs": [],
   "source": [
    "for each in users_col.find():\n",
    "    print(each)"
   ]
  },
  {
   "cell_type": "markdown",
   "id": "b2014d44",
   "metadata": {
    "pycharm": {
     "name": "#%% md\n"
    }
   },
   "source": [
    "#### 练习3：  \n",
    "查询country为China的用户(要求：输出为列表）"
   ]
  },
  {
   "cell_type": "markdown",
   "id": "49198053",
   "metadata": {
    "pycharm": {
     "name": "#%% md\n"
    }
   },
   "source": [
    "#### 解答3："
   ]
  },
  {
   "cell_type": "code",
   "execution_count": null,
   "id": "aff093e2",
   "metadata": {
    "pycharm": {
     "name": "#%%\n"
    }
   },
   "outputs": [],
   "source": []
  },
  {
   "cell_type": "markdown",
   "id": "d5f73049",
   "metadata": {
    "pycharm": {
     "name": "#%% md\n"
    }
   },
   "source": [
    "### 3.2 复杂查询"
   ]
  },
  {
   "cell_type": "markdown",
   "id": "4ba4faa7",
   "metadata": {
    "pycharm": {
     "name": "#%% md\n"
    }
   },
   "source": [
    "查询年龄在20岁并且身高为1.71m的用户"
   ]
  },
  {
   "cell_type": "code",
   "execution_count": null,
   "id": "f43dfe60",
   "metadata": {
    "pycharm": {
     "name": "#%%\n"
    }
   },
   "outputs": [],
   "source": [
    "result = users_col.find({'age':20,'height':1.71},{'_id':0}) \n",
    "for each in result:\n",
    "    print(each)"
   ]
  },
  {
   "cell_type": "markdown",
   "id": "4c36c4f2",
   "metadata": {
    "pycharm": {
     "name": "#%% md\n"
    }
   },
   "source": [
    "#### 3.2.1 逻辑查询"
   ]
  },
  {
   "cell_type": "markdown",
   "id": "05a1c65a",
   "metadata": {
    "pycharm": {
     "name": "#%% md\n"
    }
   },
   "source": [
    "| 符号 | 含义       | 示例                        |\n",
    "| ---- | ---------- | --------------------------- |\n",
    "| \\$lt  | 小于       | {'age': {'\\$lt': 20}}        |\n",
    "| \\$gt  | 大于       | {'age': {'\\$gt': 20}}        |\n",
    "| \\$lte | 小于等于   | {'age': {'\\$lte': 20}}       |\n",
    "| \\$gte | 大于等于   | {'age': {'\\$gte': 20}}       |\n",
    "| \\$ne  | 不等于     | {'age': {'\\$ne': 20}}        |\n",
    "| \\$in  | 在范围内   | {'age': {'\\$in': [20, 23]}}  |\n",
    "| \\$nin | 不在范围内 | {'age': {'\\$nin': [20, 23]}} |\n",
    "| \\$or | 逻辑非 | {'\\$or': [{'age':25},{'country':'USA'}]} |\n",
    "| \\$and |逻辑与 | {'\\$and': [{'age':25},{'country':'USA'}]} |"
   ]
  },
  {
   "cell_type": "markdown",
   "id": "9c9722bc",
   "metadata": {
    "pycharm": {
     "name": "#%% md\n"
    }
   },
   "source": [
    "查询用户年龄在21和25之间的记录（包括21和25岁）,并且不显示_id"
   ]
  },
  {
   "cell_type": "code",
   "execution_count": null,
   "id": "b53eff82",
   "metadata": {
    "pycharm": {
     "name": "#%%\n"
    }
   },
   "outputs": [],
   "source": [
    "result = users_col.find({'age': {'$gte':21, '$lte':25}},{'_id':0}) \n",
    "for each in result:\n",
    "    print(each)"
   ]
  },
  {
   "cell_type": "markdown",
   "id": "cb60515c",
   "metadata": {
    "pycharm": {
     "name": "#%% md\n"
    }
   },
   "source": [
    "查询favorites.movies中，只有”头号玩家”,”肖生克的救赎”的用户的名字，并且喜欢的电影以该顺序排序。"
   ]
  },
  {
   "cell_type": "code",
   "execution_count": null,
   "id": "0ef210b4",
   "metadata": {
    "pycharm": {
     "name": "#%%\n"
    }
   },
   "outputs": [],
   "source": [
    "result = users_col.find({'favorites.movies': ['头号玩家','肖生克的救赎']},{'_id':0,'name':1}) \n",
    "for each in result:\n",
    "    print(each)"
   ]
  },
  {
   "cell_type": "markdown",
   "id": "329b32ae",
   "metadata": {
    "pycharm": {
     "name": "#%% md\n"
    }
   },
   "source": [
    "#### 3.2.2 匹配查询\n",
    "| 符号    | 含义           | 示例                                              | 示例含义                       |\n",
    "| ------- | -------------- | ------------------------------------------------- | ------------------------------ |\n",
    "| \\$regex  | 匹配正则表达式 | {'name': {'\\$regex': '^M.*'}}                      | name以M开头                    |\n",
    "| \\$exists | 属性是否存在   | {'name': {'\\$exists': True}}                       | name属性存在                   |\n",
    "| \\$type   | 类型判断       | {'age': {'\\$type': 'int'}}                         | age的类型为int                 |\n",
    "| \\$mod    | 数字模操作     | {'age': {'\\$mod': [5, 0]}}                         | 年龄模5余0                     |\n",
    "| \\$text   | 文本查询       | {'\\$text': {'\\$search': 'Mike'}}                    | text类型的属性中包含Mike字符串 |\n",
    "| \\$where  | 高级条件查询   | {'\\$where': 'obj.fans_count == obj.follows_count'} | 自身粉丝数等于关注数           |"
   ]
  },
  {
   "cell_type": "markdown",
   "id": "2d8f1faa",
   "metadata": {
    "pycharm": {
     "name": "#%% md\n"
    }
   },
   "source": [
    "查询用户名字以'xiao'开头的数据"
   ]
  },
  {
   "cell_type": "code",
   "execution_count": null,
   "id": "012d2873",
   "metadata": {
    "pycharm": {
     "name": "#%%\n"
    }
   },
   "outputs": [],
   "source": [
    "results = users_col.find({'name': {'$regex': '^xiao.*'}},{'_id':0})\n",
    "for each in results:\n",
    "    print(each)"
   ]
  },
  {
   "cell_type": "markdown",
   "id": "e8e591f1",
   "metadata": {
    "pycharm": {
     "name": "#%% md\n"
    }
   },
   "source": [
    "### 3.3 排序"
   ]
  },
  {
   "cell_type": "markdown",
   "id": "c34b5bf5",
   "metadata": {
    "pycharm": {
     "name": "#%% md\n"
    }
   },
   "source": [
    "- sort()：在其中传入排序的字段及升降序标志  \n",
    "`collection.find().sort('列名', 升降序标志 )`  \n",
    "`pymongo.ASCENDING`指定升序(或者1）；  \n",
    "`pymongo.DESCENDING`指定降序（或者-1）;"
   ]
  },
  {
   "cell_type": "code",
   "execution_count": null,
   "id": "10f04bdb",
   "metadata": {
    "pycharm": {
     "name": "#%%\n"
    }
   },
   "outputs": [],
   "source": [
    "results = users_col.find().sort('name', pymongo.ASCENDING)\n",
    "print([result['name'] for result in results])"
   ]
  },
  {
   "cell_type": "code",
   "execution_count": null,
   "id": "608e701b",
   "metadata": {
    "pycharm": {
     "name": "#%%\n"
    }
   },
   "outputs": [],
   "source": [
    "results = users_col.find().sort('name', -1)\n",
    "print([result['name'] for result in results])"
   ]
  },
  {
   "cell_type": "markdown",
   "id": "40be6b70",
   "metadata": {
    "pycharm": {
     "name": "#%% md\n"
    }
   },
   "source": [
    "### 3.4 偏移"
   ]
  },
  {
   "cell_type": "markdown",
   "id": "ae478874",
   "metadata": {
    "pycharm": {
     "name": "#%% md\n"
    }
   },
   "source": [
    "- skip(x)：偏移x个位置，忽略前x个元素，得到第x+1个及以后的元素"
   ]
  },
  {
   "cell_type": "code",
   "execution_count": null,
   "id": "2d29fbe7",
   "metadata": {
    "pycharm": {
     "name": "#%%\n"
    }
   },
   "outputs": [],
   "source": [
    "results = users_col.find().sort('name', pymongo.ASCENDING).skip(2)\n",
    "print([result['name'] for result in results])"
   ]
  },
  {
   "cell_type": "markdown",
   "id": "3db27fb8",
   "metadata": {
    "pycharm": {
     "name": "#%% md\n"
    }
   },
   "source": [
    "- limit()：指定要取的结果个数"
   ]
  },
  {
   "cell_type": "code",
   "execution_count": null,
   "id": "da5bf824",
   "metadata": {
    "pycharm": {
     "name": "#%%\n"
    }
   },
   "outputs": [],
   "source": [
    "results = users_col.find().sort('name', pymongo.ASCENDING).skip(2).limit(2)\n",
    "print([result['name'] for result in results])"
   ]
  },
  {
   "cell_type": "markdown",
   "id": "82c4dc29",
   "metadata": {
    "pycharm": {
     "name": "#%% md\n"
    }
   },
   "source": [
    "在数据库数量非常庞大的时候，如千万、亿级别，最好不要使用大的偏移量来查询数据，因为这样很可能导致内存溢出。"
   ]
  },
  {
   "cell_type": "markdown",
   "id": "922c26b7",
   "metadata": {
    "pycharm": {
     "name": "#%% md\n"
    }
   },
   "source": [
    "### 3.5 练习"
   ]
  },
  {
   "cell_type": "markdown",
   "id": "3c4e6f1e",
   "metadata": {
    "pycharm": {
     "name": "#%% md\n"
    }
   },
   "source": [
    "#### 练习4：\n",
    "查询所有age > 25的记录，并且不显示_id"
   ]
  },
  {
   "cell_type": "markdown",
   "id": "93f04447",
   "metadata": {
    "pycharm": {
     "name": "#%% md\n"
    }
   },
   "source": [
    "#### 解答4："
   ]
  },
  {
   "cell_type": "code",
   "execution_count": null,
   "id": "e0033b14",
   "metadata": {
    "pycharm": {
     "name": "#%%\n"
    }
   },
   "outputs": [],
   "source": []
  },
  {
   "cell_type": "markdown",
   "id": "ad640aa7",
   "metadata": {
    "pycharm": {
     "name": "#%% md\n"
    }
   },
   "source": [
    "#### 练习5：\n",
    "查询用户的country是USA并且年龄大于20岁的数据。"
   ]
  },
  {
   "cell_type": "markdown",
   "id": "1a10f22d",
   "metadata": {
    "pycharm": {
     "name": "#%% md\n"
    }
   },
   "source": [
    "#### 解答5："
   ]
  },
  {
   "cell_type": "code",
   "execution_count": null,
   "id": "9cffeba1",
   "metadata": {
    "pycharm": {
     "name": "#%%\n"
    }
   },
   "outputs": [],
   "source": []
  },
  {
   "cell_type": "markdown",
   "id": "a3fccbf5",
   "metadata": {
    "pycharm": {
     "name": "#%% md\n"
    }
   },
   "source": [
    "#### 练习6：\n",
    "查找喜欢书籍的，且身高在1.68-1.72m之间的中国用户"
   ]
  },
  {
   "cell_type": "markdown",
   "id": "5f688f15",
   "metadata": {
    "pycharm": {
     "name": "#%% md\n"
    }
   },
   "source": [
    "#### 解答6："
   ]
  },
  {
   "cell_type": "code",
   "execution_count": null,
   "id": "f8c6d45d",
   "metadata": {
    "pycharm": {
     "name": "#%%\n"
    }
   },
   "outputs": [],
   "source": []
  },
  {
   "cell_type": "markdown",
   "id": "e6c235ba",
   "metadata": {
    "pycharm": {
     "name": "#%% md\n"
    }
   },
   "source": [
    "#### 练习7：\n",
    "查找喜欢书籍“谁动了我的奶酪” 或者 年龄不小于25岁且家不在纽约的美国用户"
   ]
  },
  {
   "cell_type": "markdown",
   "id": "1ef83458",
   "metadata": {
    "pycharm": {
     "name": "#%% md\n"
    }
   },
   "source": [
    "#### 解答7："
   ]
  },
  {
   "cell_type": "code",
   "execution_count": null,
   "id": "128648d3",
   "metadata": {
    "pycharm": {
     "name": "#%%\n"
    }
   },
   "outputs": [],
   "source": []
  },
  {
   "cell_type": "markdown",
   "id": "9e7b0e64",
   "metadata": {
    "pycharm": {
     "name": "#%% md\n"
    }
   },
   "source": [
    "#### 练习8：\n",
    "查找既喜欢cites也喜欢books，且身高在1.80以上的用户"
   ]
  },
  {
   "cell_type": "markdown",
   "id": "9a2046e2",
   "metadata": {
    "pycharm": {
     "name": "#%% md\n"
    }
   },
   "source": [
    "#### 解答8："
   ]
  },
  {
   "cell_type": "code",
   "execution_count": null,
   "id": "a6c285c1",
   "metadata": {
    "pycharm": {
     "name": "#%%\n"
    }
   },
   "outputs": [],
   "source": []
  },
  {
   "cell_type": "markdown",
   "id": "151b6047",
   "metadata": {
    "pycharm": {
     "name": "#%% md\n"
    }
   },
   "source": [
    "#### 练习9：\n",
    "查找名字以xiao开头，且年龄在20-25岁之间的用户"
   ]
  },
  {
   "cell_type": "markdown",
   "id": "806f2dde",
   "metadata": {
    "pycharm": {
     "name": "#%% md\n"
    }
   },
   "source": [
    "#### 解答9："
   ]
  },
  {
   "cell_type": "code",
   "execution_count": null,
   "id": "fcc18329",
   "metadata": {
    "pycharm": {
     "name": "#%%\n"
    }
   },
   "outputs": [],
   "source": []
  },
  {
   "cell_type": "markdown",
   "id": "f6c9e344",
   "metadata": {
    "pycharm": {
     "name": "#%% md\n"
    }
   },
   "source": [
    "#### 练习10：\n",
    "查找用户中身高按降序排序中，排名4-6的用户"
   ]
  },
  {
   "cell_type": "markdown",
   "id": "475f54b3",
   "metadata": {
    "pycharm": {
     "name": "#%% md\n"
    }
   },
   "source": [
    "#### 解答10："
   ]
  },
  {
   "cell_type": "code",
   "execution_count": null,
   "id": "f5f7ca82",
   "metadata": {
    "pycharm": {
     "name": "#%%\n"
    }
   },
   "outputs": [],
   "source": []
  },
  {
   "cell_type": "markdown",
   "id": "4b5fb130",
   "metadata": {
    "pycharm": {
     "name": "#%% md\n"
    }
   },
   "source": [
    "<br>\n",
    "\n",
    "**！注意：第4部分中的练习都需要保证8条用户的记录都为原始记录，如果操作了删除数据，可以使用`users_col.delete_many({})`删除所有数据，再重新插入所有用户数据。**"
   ]
  },
  {
   "cell_type": "markdown",
   "id": "1ac98a33",
   "metadata": {
    "pycharm": {
     "name": "#%% md\n"
    }
   },
   "source": [
    "## 4. 更新记录\n",
    "- collection.update_one(参数1, 参数2)：只更新一条信息\n",
    "- collection.update_many(参数1, 参数2)：更新所有符合要求的信息\n",
    "\n",
    "参数1和参数2都是字典，都不能省略。参数1用来寻找需要更新的记录，参数2用来更新记录的内容。"
   ]
  },
  {
   "cell_type": "markdown",
   "id": "af6e9b30",
   "metadata": {
    "pycharm": {
     "name": "#%% md\n"
    }
   },
   "source": [
    "将名字为xiaoxiao的人的身高改为1.81(使用$set)"
   ]
  },
  {
   "cell_type": "code",
   "execution_count": null,
   "id": "167eddc7",
   "metadata": {
    "pycharm": {
     "name": "#%%\n"
    }
   },
   "outputs": [],
   "source": [
    "condition = {'name': 'xiaoxiao'}\n",
    "users_col.update_one(condition, {'$set':{'height': 1.81}})\n",
    "result = users_col.find(condition)\n",
    "for each in result:\n",
    "    print(each) #输出结果，看名字的不同"
   ]
  },
  {
   "cell_type": "markdown",
   "id": "80218479",
   "metadata": {
    "pycharm": {
     "name": "#%% md\n"
    }
   },
   "source": [
    "将年龄大于20岁的用户的年龄增加1岁（使用$inc)"
   ]
  },
  {
   "cell_type": "code",
   "execution_count": null,
   "id": "07cd5491",
   "metadata": {
    "pycharm": {
     "name": "#%%\n"
    }
   },
   "outputs": [],
   "source": [
    "condition = {'age': {'$gt': 20}}\n",
    "result = users_col.update_many(condition, {'$inc': {'age': 1}})\n",
    "result = users_col.find(condition)\n",
    "for each in result:\n",
    "    print(each) #输出结果，看名字的不同"
   ]
  },
  {
   "cell_type": "markdown",
   "id": "f7ac726b",
   "metadata": {
    "pycharm": {
     "name": "#%% md\n"
    }
   },
   "source": [
    "#### 练习11：\n",
    "将喜欢书籍且在中国的用户，所在城市改为上海"
   ]
  },
  {
   "cell_type": "markdown",
   "id": "3df8708d",
   "metadata": {
    "pycharm": {
     "name": "#%% md\n"
    }
   },
   "source": [
    "#### 解答11："
   ]
  },
  {
   "cell_type": "code",
   "execution_count": null,
   "id": "399a1e82",
   "metadata": {
    "pycharm": {
     "name": "#%%\n"
    }
   },
   "outputs": [],
   "source": []
  },
  {
   "cell_type": "markdown",
   "id": "37957b95",
   "metadata": {
    "pycharm": {
     "name": "#%% md\n"
    }
   },
   "source": [
    "## 对查询结果去重\n",
    "- collection.distinct('列名')：返回一个去重后的列表\n"
   ]
  },
  {
   "cell_type": "code",
   "execution_count": null,
   "id": "9d18d41a",
   "metadata": {
    "pycharm": {
     "name": "#%%\n"
    }
   },
   "outputs": [],
   "source": [
    "name = users_col.distinct('name')\n",
    "print(name)"
   ]
  },
  {
   "cell_type": "markdown",
   "id": "76a8be3d",
   "metadata": {
    "pycharm": {
     "name": "#%% md\n"
    },
    "tags": []
   },
   "source": [
    "#### 练习12：\n",
    "用户的年龄有多少种(最后输出数字,提示：可使用python的len()）"
   ]
  },
  {
   "cell_type": "markdown",
   "id": "ab8d7afd",
   "metadata": {
    "pycharm": {
     "name": "#%% md\n"
    }
   },
   "source": [
    "#### 解答12："
   ]
  },
  {
   "cell_type": "code",
   "execution_count": null,
   "id": "b1104611",
   "metadata": {
    "pycharm": {
     "name": "#%%\n"
    }
   },
   "outputs": [],
   "source": []
  },
  {
   "cell_type": "markdown",
   "id": "cf43dfe6",
   "metadata": {
    "pycharm": {
     "name": "#%% md\n"
    }
   },
   "source": [
    "<br>\n",
    "\n",
    "**！注意：第5部分中的练习都需要保证8条用户的记录操作了更新数据。**"
   ]
  },
  {
   "cell_type": "markdown",
   "id": "c288620e",
   "metadata": {
    "pycharm": {
     "name": "#%% md\n"
    }
   },
   "source": [
    "## 5. 删除记录\n",
    "- collection.delete_one(参数)：删除一条记录\n",
    "- collection.delete_many(参数)：删除符合要求的所有记录\n",
    "\n",
    "参数都是字典，不建议省略。"
   ]
  },
  {
   "cell_type": "markdown",
   "id": "d70ae1df",
   "metadata": {
    "pycharm": {
     "name": "#%% md\n"
    }
   },
   "source": [
    "删除第1个country在USA的用户"
   ]
  },
  {
   "cell_type": "code",
   "execution_count": null,
   "id": "3dce7763",
   "metadata": {
    "pycharm": {
     "name": "#%%\n"
    }
   },
   "outputs": [],
   "source": [
    "users_col.delete_one({'country': 'USA'})\n",
    "result = users_col.find({},{'_id':0})\n",
    "for each in result:\n",
    "    print(each) #输出结果，看名字的不同"
   ]
  },
  {
   "cell_type": "markdown",
   "id": "7584e3a7",
   "metadata": {
    "pycharm": {
     "name": "#%% md\n"
    }
   },
   "source": [
    "#### 练习13：\n",
    "删除所有country在USA或者年龄小于等于26岁的用户"
   ]
  },
  {
   "cell_type": "markdown",
   "id": "b5198c59",
   "metadata": {
    "pycharm": {
     "name": "#%% md\n"
    }
   },
   "source": [
    "#### 解答13："
   ]
  },
  {
   "cell_type": "code",
   "execution_count": null,
   "id": "77e8d033",
   "metadata": {
    "pycharm": {
     "name": "#%%\n"
    }
   },
   "outputs": [],
   "source": []
  },
  {
   "cell_type": "markdown",
   "id": "8c969437",
   "metadata": {
    "pycharm": {
     "name": "#%% md\n"
    }
   },
   "source": [
    "<br>\n",
    "删除所有数据"
   ]
  },
  {
   "cell_type": "code",
   "execution_count": null,
   "id": "2de76558",
   "metadata": {
    "pycharm": {
     "name": "#%%\n"
    }
   },
   "outputs": [],
   "source": [
    "users_col.delete_many({})"
   ]
  },
  {
   "cell_type": "markdown",
   "id": "a67bbcf4",
   "metadata": {
    "pycharm": {
     "name": "#%% md\n"
    }
   },
   "source": [
    "## 6. Python Object与Mongodb Document的转换"
   ]
  },
  {
   "cell_type": "markdown",
   "id": "1c446d76",
   "metadata": {
    "pycharm": {
     "name": "#%% md\n"
    }
   },
   "source": [
    "ODM(Object-Document Mapper)是指将python中的对象和MongoDb中文档之间进行映射，将文档和对文档数据的操作封装成一个python类。  \n",
    "用户在操作文档数据的时候，只需关心类的定义与使用方法即可，无需关系与mongodb的交互细节。  \n",
    "如下是一个ODM操作示例："
   ]
  },
  {
   "cell_type": "markdown",
   "id": "f8c6535b",
   "metadata": {
    "pycharm": {
     "name": "#%% md\n"
    }
   },
   "source": [
    "由于环境中没有安装mongoengine，示例仅使用普通的类和操作方法做演示。有兴趣的同学可以参考网上关于mongoengine的资料，并在本地实验。  \n",
    "创建⼀个userTable类，python_to_mongo函数将类对象转化为⽂档插⼊mongodb，mongo_to_python函数\n",
    "根据查询条件从mongodb中查询出相应的⽂档并将其转化为python类对象"
   ]
  },
  {
   "cell_type": "code",
   "execution_count": null,
   "id": "037bea2b",
   "metadata": {
    "pycharm": {
     "name": "#%%\n"
    }
   },
   "outputs": [],
   "source": [
    "class userTable(object):\n",
    "    def __init__(self, _id, name, age, country, height, favorites):\n",
    "        self._id = _id\n",
    "        self.name = name\n",
    "        self.age = age\n",
    "        self.country = country\n",
    "        self.height = height\n",
    "        self.favorites = favorites\n",
    "\n",
    "# 插入一条文档\n",
    "def insert_one_to_mongo(user):\n",
    "    users_col.insert_one(user.__dict__)\n",
    "\n",
    "# 根据条件从mongodb中查询文档\n",
    "def query_from_mongo(condition):\n",
    "    result = users_col.find(condition)\n",
    "    user_list = []\n",
    "    for doc in result:\n",
    "        temp = userTable(doc['_id'],doc['name'],doc['age'],doc['country'],doc['height'],doc['favorites'])\n",
    "        user_list.append(temp)\n",
    "    return user_list\n",
    "\n",
    "if __name__=='__main__':\n",
    "    \n",
    "    #首先删除users_col全部的数据\n",
    "    users_col.delete_many({})\n",
    "    \n",
    "    #构造两条数据\n",
    "    user1 = userTable('001', 'lilei', 28, 'China', 1.81, {'books':['谁动了我的奶酪','飘']})\n",
    "    user2 = userTable('002', 'hanmeimei', 30, 'China',1.70, {'movies':['头号玩家','肖申克的救赎']})\n",
    "    user3 = userTable('003', 'zhangsan', 21, 'China',1.76, {'books':['人类简史','CASPP']})\n",
    "    \n",
    "    #插入三条数据\n",
    "    insert_one_to_mongo(user1)\n",
    "    insert_one_to_mongo(user2)\n",
    "    insert_one_to_mongo(user3)\n",
    "    \n",
    "    #根据查询条件查询文档（查询喜欢书籍的用户）\n",
    "    user_list = query_from_mongo({'favorites.books':{'$exists':True}})\n",
    "    \n",
    "    #输出结果\n",
    "    for s in user_list:\n",
    "        print(s.__dict__) #lilei & zhangsan"
   ]
  },
  {
   "cell_type": "markdown",
   "id": "c72f3b6b",
   "metadata": {
    "pycharm": {
     "name": "#%% md\n"
    }
   },
   "source": [
    "#### 练习14：\n",
    "根据示例程序，完成下述程序待填充的部分。  \n",
    "两个函数：update_to_mongo、delete_many_to_mongo  \n",
    "四个CRUD操作：（#待填充  语句）"
   ]
  },
  {
   "cell_type": "code",
   "execution_count": null,
   "id": "fe34d9a4",
   "metadata": {
    "pycharm": {
     "name": "#%%\n"
    }
   },
   "outputs": [],
   "source": [
    "class userTable(object):\n",
    "    def __init__(self, _id, name, age, country, height, favorites):\n",
    "        self._id = _id\n",
    "        self.name = name\n",
    "        self.age = age\n",
    "        self.country = country\n",
    "        self.height = height\n",
    "        self.favorites = favorites\n",
    "\n",
    "# 插入一条文档\n",
    "def insert_one_to_mongo(user):\n",
    "    users_col.insert_one(user.__dict__)\n",
    "\n",
    "# 根据条件从mongodb中查询文档\n",
    "def query_from_mongo(condition):\n",
    "    #查询\n",
    "    result = users_col.find(condition)\n",
    "    #将查询结果转换为pyhton对象\n",
    "    user_list = []\n",
    "    for doc in result:\n",
    "        temp = userTable(doc['_id'],doc['name'],doc['age'],doc['country'],doc['height'],doc['favorites'])\n",
    "        user_list.append(temp)\n",
    "    return user_list\n",
    "\n",
    "#根据条件和更新操作，对文档进行更新\n",
    "def update_to_mongo(condition, operation):\n",
    "    #待填充\n",
    "\n",
    "#根据条件删除文档\n",
    "def delete_many_to_mongo(condition):\n",
    "    #待填充\n",
    "\n",
    "if __name__=='__main__':\n",
    "    \n",
    "    #首先删除users_col全部的数据\n",
    "    delete_many_to_mongo({})\n",
    "    \n",
    "    #构造两条数据\n",
    "    user1 = userTable('001', 'lilei', 28, 'China', 1.81, {'books':['谁动了我的奶酪','飘']})\n",
    "    user2 = userTable('002', 'hanmeimei', 30, 'China',1.70, {'movies':['头号玩家','肖申克的救赎']})\n",
    "    user3 = userTable('003', 'zhangsan', 21, 'China',1.76, {'books':['人类简史','CASPP']})\n",
    "    \n",
    "    #插入两条数据\n",
    "    insert_one_to_mongo(user1)\n",
    "    insert_one_to_mongo(user2)\n",
    "    insert_one_to_mongo(user3)\n",
    "    \n",
    "    #根据查询条件查询文档（查询年龄大于25岁且身高高于1.75的用户）\n",
    "    user_list = query_from_mongo({})   #待填充  \n",
    "    \n",
    "    #输出结果\n",
    "    print('修改之前\\n')\n",
    "    for s in user_list:\n",
    "        print(s.__dict__) #lilei\n",
    "    \n",
    "    #将hanmeimei的身高改为1.76。\n",
    "    update_to_mongo({}, {})            #待填充\n",
    "    \n",
    "    #根据查询条件查询文档（查询年龄大于25岁且身高高于1.75的用户）\n",
    "    user_list = query_from_mongo({})   #待填充  \n",
    "    \n",
    "    print('\\n修改之后\\n')\n",
    "    #输出结果\n",
    "    for s in user_list:\n",
    "        print(s.__dict__) #lilei & hanmeimei\n",
    "        \n",
    "    #删除喜欢书籍的用户\n",
    "    delete_many_to_mongo({})           #待填充\n",
    "    \n",
    "    #查询剩余全部用户\n",
    "    user_list = query_from_mongo({})\n",
    "    \n",
    "    print('\\n删除之后\\n')\n",
    "    #输出结果\n",
    "    for s in user_list:\n",
    "        print(s.__dict__) #hanmeimei"
   ]
  },
  {
   "cell_type": "markdown",
   "id": "a1e4073f",
   "metadata": {
    "pycharm": {
     "name": "#%% md\n"
    }
   },
   "source": [
    "#### 解答14："
   ]
  },
  {
   "cell_type": "code",
   "execution_count": null,
   "id": "73efbacc",
   "metadata": {
    "pycharm": {
     "name": "#%%\n"
    }
   },
   "outputs": [],
   "source": []
  }
 ],
 "metadata": {
  "kernelspec": {
   "display_name": "Python 3 (ipykernel)",
   "language": "python",
   "name": "python3"
  },
  "language_info": {
   "codemirror_mode": {
    "name": "ipython",
    "version": 3
   },
   "file_extension": ".py",
   "mimetype": "text/x-python",
   "name": "python",
   "nbconvert_exporter": "python",
   "pygments_lexer": "ipython3",
   "version": "3.10.9"
  },
  "toc-autonumbering": false,
  "toc-showtags": false
 },
 "nbformat": 4,
 "nbformat_minor": 5
}
